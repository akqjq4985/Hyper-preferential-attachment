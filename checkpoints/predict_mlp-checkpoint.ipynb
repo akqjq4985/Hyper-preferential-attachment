{
 "cells": [
  {
   "cell_type": "code",
   "execution_count": null,
   "metadata": {},
   "outputs": [],
   "source": [
    "import torch\n",
    "import numpy as np\n",
    "from src.MLP import MultiLayerPerceptron as MLP\n",
    "import pandas as pd\n",
    "from torch.utils.data import DataLoader\n",
    "from matplotlib import pyplot as plt"
   ]
  },
  {
   "cell_type": "code",
   "execution_count": null,
   "metadata": {},
   "outputs": [],
   "source": [
    "#data = pd.read_csv('processed_data/no_update.csv')\n",
    "#data = pd.read_csv('processed_data/15000update.csv')\n",
    "data = pd.read_csv('processed_data/25000update.csv')\n",
    "\n",
    "train_size = int(0.7*len(data))\n",
    "dataX = data[['Degree_difference','Max_degree', 'Avg_degree', 'MIN_distance', 'Avg_cluster_coef',\n",
    "             'Avg_jaccard', 'Hyper_jaccard', 'Adamic_adar']]\n",
    "dataY = data[['Answer']]\n",
    "\n",
    "trainX= torch.Tensor(dataX[:train_size].values)\n",
    "testX = torch.Tensor(dataX[train_size:].values)\n",
    "trainY= torch.Tensor(dataY[:train_size].values)\n",
    "testY = torch.Tensor(dataY[train_size:].values)\n",
    "train_data = torch.utils.data.TensorDataset(trainX, trainY)\n",
    "test_data = torch.utils.data.TensorDataset(testX, testY)\n",
    "trainloader = DataLoader(train_data ,batch_size=1000, shuffle=True)\n",
    "testloader = DataLoader(test_data ,batch_size=1000, shuffle=True)"
   ]
  },
  {
   "cell_type": "code",
   "execution_count": null,
   "metadata": {},
   "outputs": [],
   "source": [
    "model = MLP(input_dimension = 8,\n",
    "           output_dimension = 1,\n",
    "           num_neurons = [64, 64],\n",
    "           activation='mish',\n",
    "           out_activation='Sigmoid',\n",
    "           dropout_probability=0.1)\n",
    "epochs = 100\n",
    "lr = 1e-3\n",
    "\n",
    "opt = torch.optim.Adam(model.parameters(), lr)\n",
    "criterion = torch.nn.BCELoss()\n",
    "\n"
   ]
  },
  {
   "cell_type": "code",
   "execution_count": null,
   "metadata": {},
   "outputs": [],
   "source": [
    "loss_record = []\n",
    "for epoch in range(1,epochs+1):\n",
    "    total_loss = 0 \n",
    "    \n",
    "    for x, y in trainloader:\n",
    "        output = model(x)\n",
    "        loss = criterion(output, y)\n",
    "        opt.zero_grad()\n",
    "        loss.backward()\n",
    "        opt.step()\n",
    "        total_loss += loss\n",
    "    \n",
    "    loss_record.append(total_loss)\n",
    "    if epoch % 10 == 0:\n",
    "        print(total_loss)\n",
    "    \n",
    "plt.plot(loss_record)"
   ]
  },
  {
   "cell_type": "code",
   "execution_count": null,
   "metadata": {},
   "outputs": [],
   "source": [
    "tp = 0\n",
    "fp = 0\n",
    "tn = 0\n",
    "fn = 0\n",
    "for x, y in testloader:\n",
    "    pred = model(x)\n",
    "    pred = torch.round(pred)\n",
    "    \n",
    "    tp += torch.sum((pred==1) & (y==1))\n",
    "    fn += torch.sum((pred==0) & (y==1))\n",
    "    fp += torch.sum((pred==1) & (y==0))\n",
    "    tn += torch.sum((pred==0) & (y==0))\n",
    "    \n",
    "acc = np.array(tp+tn)/np.array((tp+tn+fp+fn))\n",
    "precison = np.array(tp)/np.array((tp+fp))\n",
    "recall = np.array(tp)/np.array((tp+fn))\n",
    "f1_score = 2*precison*recall/(precison+recall)"
   ]
  },
  {
   "cell_type": "code",
   "execution_count": null,
   "metadata": {},
   "outputs": [],
   "source": [
    "print(acc,precison, recall, f1_score)"
   ]
  }
 ],
 "metadata": {
  "kernelspec": {
   "display_name": "Python 3",
   "language": "python",
   "name": "python3"
  },
  "language_info": {
   "codemirror_mode": {
    "name": "ipython",
    "version": 3
   },
   "file_extension": ".py",
   "mimetype": "text/x-python",
   "name": "python",
   "nbconvert_exporter": "python",
   "pygments_lexer": "ipython3",
   "version": "3.8.3"
  }
 },
 "nbformat": 4,
 "nbformat_minor": 4
}
