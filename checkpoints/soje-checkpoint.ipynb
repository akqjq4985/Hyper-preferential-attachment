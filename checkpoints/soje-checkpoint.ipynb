{
 "cells": [
  {
   "cell_type": "code",
   "execution_count": 1,
   "metadata": {
    "colab": {
     "base_uri": "https://localhost:8080/",
     "height": 127
    },
    "colab_type": "code",
    "id": "TZZ_F7E3ZsbB",
    "outputId": "a2a90609-0ba1-40d6-bfb5-1fa2a9fce3b7"
   },
   "outputs": [
    {
     "name": "stdout",
     "output_type": "stream",
     "text": [
      "Go to this URL in a browser: https://accounts.google.com/o/oauth2/auth?client_id=947318989803-6bn6qk8qdgf4n4g3pfee6491hc0brc4i.apps.googleusercontent.com&redirect_uri=urn%3aietf%3awg%3aoauth%3a2.0%3aoob&response_type=code&scope=email%20https%3a%2f%2fwww.googleapis.com%2fauth%2fdocs.test%20https%3a%2f%2fwww.googleapis.com%2fauth%2fdrive%20https%3a%2f%2fwww.googleapis.com%2fauth%2fdrive.photos.readonly%20https%3a%2f%2fwww.googleapis.com%2fauth%2fpeopleapi.readonly\n",
      "\n",
      "Enter your authorization code:\n",
      "··········\n",
      "Mounted at /content/drive/\n"
     ]
    }
   ],
   "source": [
    "import os\n",
    "from google.colab import drive\n",
    "drive.mount('/content/drive/')"
   ]
  },
  {
   "cell_type": "code",
   "execution_count": 4,
   "metadata": {
    "colab": {},
    "colab_type": "code",
    "id": "k6uz_7iiZs8H"
   },
   "outputs": [],
   "source": [
    "os.chdir('drive/My Drive/Colab Notebooks/datamining')"
   ]
  },
  {
   "cell_type": "code",
   "execution_count": 5,
   "metadata": {
    "colab": {},
    "colab_type": "code",
    "id": "v2gjfClpZunq"
   },
   "outputs": [],
   "source": [
    "from model import *\n",
    "import numpy as np\n",
    "import random"
   ]
  },
  {
   "cell_type": "code",
   "execution_count": 6,
   "metadata": {
    "colab": {},
    "colab_type": "code",
    "id": "CqCgh8GLajRY"
   },
   "outputs": [],
   "source": [
    "query = []\n",
    "ans = []\n",
    "\n",
    "fd = open('./project_data/query_public.txt')\n",
    "line = fd.readline()\n",
    "while(1):\n",
    "    line = fd.readline()\n",
    "    if not line:\n",
    "        break\n",
    "    authors = list(map(int, line[:-1].split()))\n",
    "    query.append(authors)\n",
    "fd.close()\n",
    "\n",
    "fd = open('./project_data/answer_public.txt')\n",
    "while(1):\n",
    "    line = fd.readline()\n",
    "    if not line:\n",
    "        break\n",
    "    answer = line[:-1].split()\n",
    "    if (answer == ['True']):\n",
    "        ans.append(1)\n",
    "    else:\n",
    "        ans.append(0)\n",
    "fd.close()"
   ]
  },
  {
   "cell_type": "code",
   "execution_count": 7,
   "metadata": {
    "colab": {},
    "colab_type": "code",
    "id": "8uam0EtFZwN9"
   },
   "outputs": [],
   "source": [
    "class Hypergraph():\n",
    "\n",
    "    def __init__(self):\n",
    "        path = os.getcwd() + '/project_data/' + 'paper_author.txt'\n",
    "        self.data = {}\n",
    "        pub = 1\n",
    "        with open(path, 'r') as f:\n",
    "            line = f.readline()\n",
    "            while 1:\n",
    "                line = f.readline()\n",
    "                if not line:\n",
    "                    break\n",
    "\n",
    "                list_line = list(map(int, line[:-1].split()))\n",
    "                self.data[pub] = list_line\n",
    "\n",
    "                pub += 1\n",
    "\n",
    "        self.nodes = self.nodes()\n",
    "        self.edges = self.hyper_edges()\n",
    "        self.degrees = self.hyper_degrees()\n",
    "        self.nbd_edgelist = self.hyper_neighbor_edge()\n",
    "        self.neighbors = self.hyper_neighbors()\n",
    "\n",
    "    def nodes(self):\n",
    "        node = set()\n",
    "        for edge in self.data.values():\n",
    "            for _node in edge:\n",
    "                node.add(_node)\n",
    "        return node\n",
    "\n",
    "    def hyper_edges(self):\n",
    "        edges = dict()\n",
    "        for idx, edge in self.data.items():\n",
    "            edges[idx] = edge\n",
    "        return edges\n",
    "\n",
    "\n",
    "    def hyper_degrees(self):\n",
    "        degrees = dict()\n",
    "        for edge in self.edges.values():\n",
    "            for node in edge:\n",
    "                if node not in degrees.keys():\n",
    "                    degrees[node] = 1\n",
    "                else:\n",
    "                    degrees[node] += 1\n",
    "        return degrees\n",
    "\n",
    "    def hyper_neighbors(self):\n",
    "        neighbor_dict = dict()\n",
    "        for node in self.nodes:\n",
    "            if node not in neighbor_dict.keys():\n",
    "                neighbor_dict[node]=set()\n",
    "            for edge_idx in self.nbd_edgelist[node]:\n",
    "                edge = self.edges[edge_idx]\n",
    "                for node_ in edge:\n",
    "                    neighbor_dict[node].add(node_)\n",
    "\n",
    "        for node, neighbors in neighbor_dict.items():\n",
    "            if len(neighbors) > 1:\n",
    "                neighbors.remove(node)\n",
    "                neighbor_dict[node] = neighbors\n",
    "        return neighbor_dict\n",
    "\n",
    "    def hyper_neighbor_edge(self):\n",
    "        nbd_edgelist = dict()\n",
    "        for idx, edge in self.edges.items():\n",
    "            for node in edge:\n",
    "                if node not in nbd_edgelist.keys():\n",
    "                    nbd_edgelist[node] = []\n",
    "                    nbd_edgelist[node].append(idx)\n",
    "                else:\n",
    "                    nbd_edgelist[node].append(idx)\n",
    "        return nbd_edgelist\n",
    "  \n",
    "    def cluster_coef(self):\n",
    "        c = clustering(Data_class)\n",
    "        return c \n",
    "        \n",
    "    def add_edge(self, edge):\n",
    "        idx = len(self.edges) + 1\n",
    "        self.edges.update({idx: edge})\n",
    "\n",
    "        for node in edge:\n",
    "            self.degrees[node] += 1\n",
    "        \n",
    "        for i in range(len(edge)-1):\n",
    "            for j in range(i+1, len(edge)):\n",
    "                self.neighbors[edge[i]].add(edge[j])\n",
    "                self.neighbors[edge[j]].add(edge[i])\n",
    "\n",
    "    def get_authors_publication(self):\n",
    "        aut_pub = dict()\n",
    "        for aut_list in self.data.values():\n",
    "            for aut in aut_list:\n",
    "                if aut not in aut_pub.keys():\n",
    "                    aut_pub[aut] = 0\n",
    "                aut_pub[aut] += 1\n",
    "\n",
    "        return aut_pub"
   ]
  },
  {
   "cell_type": "code",
   "execution_count": 8,
   "metadata": {
    "colab": {},
    "colab_type": "code",
    "id": "bIIpKUN-dfdm"
   },
   "outputs": [],
   "source": [
    "data = Hypergraph()"
   ]
  },
  {
   "cell_type": "code",
   "execution_count": 9,
   "metadata": {
    "colab": {},
    "colab_type": "code",
    "id": "JyZTNbhEZyOJ"
   },
   "outputs": [],
   "source": [
    "def no_similarity(Data_class, edge):\n",
    "    return 1\n",
    "\n",
    "def averaged_jaccard_similarity(Data_class, edge):\n",
    "\n",
    "    jaccard_list = []\n",
    "    edge_length = len(edge)\n",
    "\n",
    "    for i in range(edge_length-1):\n",
    "        for j in range(i+1, edge_length):\n",
    "            temp_edge = [edge[i], edge[j]]\n",
    "            jcd = jaccard(Data_class, temp_edge)\n",
    "            jaccard_list.append(jcd)\n",
    "\n",
    "    return np.mean(jaccard_list)\n",
    "\n",
    "\n",
    "def get_distance(Data_class, hyperedge):\n",
    "    min_distance = 10\n",
    "    for i in range(len(hyperedge)-1):\n",
    "        for j in range(i+1, len(hyperedge)):\n",
    "            distance = 0\n",
    "            set1 = Data_class.neighbors[hyperedge[i]]\n",
    "            if hyperedge[j] in set1:\n",
    "                return 1\n",
    "            set2 = Data_class.neighbors[hyperedge[j]]\n",
    "            difference = set1.intersection(set2)\n",
    "            if not difference:\n",
    "                min_distance = 2\n",
    "                continue\n",
    "            set1 = get_radius_neighbors(Data_class, set(), hyperedge[i], 1, 2)\n",
    "            difference = set1.intersection(set2)\n",
    "            if not difference:\n",
    "                if min_distance > 3:\n",
    "                    min_distance = 3\n",
    "                continue\n",
    "            set2 = get_radius_neighbors(Data_class, set(), hyperedge[i], 1, 2)\n",
    "            difference = set1.intersection(set2)\n",
    "            if not difference:\n",
    "                if min_distance > 4:\n",
    "                    min_distance = 4\n",
    "                continue\n",
    "            set1 = get_radius_neighbors(Data_class, set(), hyperedge[i], 1, 3)\n",
    "            difference = set1.intersection(set2)\n",
    "            if not difference:\n",
    "                if min_distance > 5:\n",
    "                    min_distance = 5\n",
    "                continue\n",
    "            set2 = get_radius_neighbors(Data_class, set(), hyperedge[i], 1, 3)\n",
    "            difference = set1.intersection(set2)\n",
    "            if not difference:\n",
    "                if min_distance > 6:\n",
    "                    min_distance = 6\n",
    "                continue\n",
    "            else:\n",
    "                min_distance = 7\n",
    "                continue\n",
    "    return min_distance\n",
    "        \n",
    "\n",
    "def jaccard(Data_class, hyperedge):\n",
    "    intersect = set(Data_class.neighbors[hyperedge[0]])\n",
    "    unionset = set()\n",
    "    for node in hyperedge:\n",
    "        intersect = set(Data_class.neighbors[node]).intersection(intersect)\n",
    "        unionset = set(Data_class.neighbors[node]).union(unionset)\n",
    "    return float(len(intersect))/len(unionset)\n",
    "\n",
    "def radius_jaccard(Data_class, hyperedge):\n",
    "    intersect = set(Data_class.neighbors[hyperedge[0]])\n",
    "    unionset = set()\n",
    "    for node in hyperedge:\n",
    "        node_set = get_radius_neighbors(Data_class, set(), node, 1, 2)\n",
    "        intersect = set(node_set).intersection(intersect)\n",
    "        unionset = set(node_set).union(unionset)\n",
    "    return float(len(intersect))/len(unionset)\n",
    "\n",
    "def min_jaccard(Data_class, hyperedge):\n",
    "    min_value = 10000\n",
    "    for i in range(len(hyperedge)-1):\n",
    "        for j in range(i+1,len(hyperedge)):\n",
    "            edge = [hyperedge[i], hyperedge[j]]\n",
    "            value = jaccard(Data_class, edge)\n",
    "            if (min_value > value):\n",
    "                min_value = value\n",
    "    return value\n",
    "\n",
    "def get_radius_neighbors(Data_class, neighbors, nodeID, iter, max_iter):\n",
    "    if (iter > max_iter):\n",
    "        return neighbors\n",
    "    old_neighbors = neighbors\n",
    "    new_neighbors = set(Data_class.neighbors[nodeID])\n",
    "    difference = [x for x in new_neighbors if x not in old_neighbors]\n",
    "    if not difference:\n",
    "        return neighbors\n",
    "    neighbors = old_neighbors.union(new_neighbors)\n",
    "    for node in difference:\n",
    "        neighbors = get_radius_neighbors(Data_class, neighbors, node, iter+1, max_iter)\n",
    "    return neighbors\n",
    "\n",
    "def adamic_adar(Data_class, hyperedge):\n",
    "    # 반지름 5로 늘리기 - union\n",
    "    nodes = hyperedge\n",
    "    for node in hyperedge:\n",
    "        neighbors = get_radius_neighbors(Data_class, set(), node, 1, 3)\n",
    "        if (node == hyperedge[0]):\n",
    "            common_neighbors = neighbors\n",
    "        else:\n",
    "            common_neighbors = neighbors.intersection(common_neighbors)\n",
    "\n",
    "    # 공통 이웃들의 degree에 log씌우고 1에서 나눠서 다 더하기\n",
    "    Adamic_adar = 0\n",
    "    for node in common_neighbors:\n",
    "        if (Data_class.degrees[node] != 1):\n",
    "            Adamic_adar += 1.0/np.log(Data_class.degrees[node])\n",
    "    return Adamic_adar\n"
   ]
  },
  {
   "cell_type": "code",
   "execution_count": null,
   "metadata": {
    "colab": {},
    "colab_type": "code",
    "id": "ztgYS44gRmG2"
   },
   "outputs": [],
   "source": [
    "# query 길이와는 상관 없나?\n",
    "\n",
    "# minimum similarity\n"
   ]
  },
  {
   "cell_type": "code",
   "execution_count": 10,
   "metadata": {
    "colab": {
     "base_uri": "https://localhost:8080/",
     "height": 179
    },
    "colab_type": "code",
    "id": "TrviJyELarZR",
    "outputId": "28dcd996-b439-4321-cca7-855e63b97edd"
   },
   "outputs": [
    {
     "name": "stdout",
     "output_type": "stream",
     "text": [
      "pure distance\n",
      "2.004394776494224\n",
      "3.4893094567886447\n",
      "1.755197712051436\n",
      "2.748227518075676\n",
      "1\n",
      "1\n",
      "7\n",
      "7\n"
     ]
    }
   ],
   "source": [
    "# True 인 노드들 특징 파악\n",
    "# 가설: similarity 크다 -> little large\n",
    "True_distance = []\n",
    "False_distance = []\n",
    "next = 0\n",
    "for i in range(len(ans)):\n",
    "    element = query[i]\n",
    "    for j in element:\n",
    "        if j not in data.nodes:\n",
    "            next = 1\n",
    "    if (next == 1):\n",
    "        next = 0\n",
    "        continue\n",
    "    value = get_distance(data, element)\n",
    "    if (ans[i] == 1):\n",
    "        True_distance.append(value)\n",
    "    else:\n",
    "        False_distance.append(value)\n",
    "\n",
    "true = np.array(True_distance)\n",
    "false = np.array(False_distance)\n",
    "\n",
    "print(\"pure distance\")\n",
    "print(np.mean(true))    # 0.00487\n",
    "print(np.mean(false))   # 0.07449\n",
    "print(np.std(true))     # 0.00975\n",
    "print(np.std(false))    # 0.119\n",
    "print(np.min(true))     # 0\n",
    "print(np.min(false))    # 0\n",
    "print(np.max(true))     # 0.02439\n",
    "print(np.max(false))    # 0.33333"
   ]
  },
  {
   "cell_type": "code",
   "execution_count": 11,
   "metadata": {
    "colab": {
     "base_uri": "https://localhost:8080/",
     "height": 265
    },
    "colab_type": "code",
    "id": "5c0GMU1Ta7uo",
    "outputId": "02096567-6e60-4ae5-9fc9-67c3a9a27915"
   },
   "outputs": [
    {
     "data": {
      "image/png": "[encoded data removed]",
      "text/plain": [
       "<Figure size 432x288 with 1 Axes>"
      ]
     },
     "metadata": {
      "needs_background": "light",
      "tags": []
     },
     "output_type": "display_data"
    }
   ],
   "source": [
    "from matplotlib import pyplot as plt\n",
    "index = []\n",
    "for i in range(len(True_distance)):\n",
    "    index.append(i)\n",
    "\n",
    "index2 = []\n",
    "for i in range(len(False_distance)):\n",
    "    index2.append(i)\n",
    "plt.scatter(index2, False_distance, c='blue', s=5)\n",
    "plt.scatter(index, True_distance, c='red', s=5)\n",
    "plt.show()"
   ]
  },
  {
   "cell_type": "code",
   "execution_count": 14,
   "metadata": {
    "colab": {
     "base_uri": "https://localhost:8080/",
     "height": 89
    },
    "colab_type": "code",
    "id": "vw-cw29-bCjC",
    "outputId": "f2d2b1d1-e258-4885-ad21-9262e0300bc1"
   },
   "outputs": [
    {
     "name": "stdout",
     "output_type": "stream",
     "text": [
      "1, 2, 7 rate 44.71417624521073 : 31.05593869731801 : 24.229885057471265\n",
      "1: true: 56.8225211107249 %, false: 43.17747888927511 %\n",
      "2: true: 62.01300803036344 %, false: 37.98699196963658 %\n",
      "7: true: 21.506319604311887 %, false: 78.4936803956881 %\n"
     ]
    }
   ],
   "source": [
    "true_rate = [0]*7\n",
    "for i in range(len(True_distance)):\n",
    "    if (True_distance[i] == 1):\n",
    "        true_rate[0] += 1\n",
    "    elif (True_distance[i] == 2):\n",
    "        true_rate[1] += 1\n",
    "    elif (True_distance[i] == 3):\n",
    "        true_rate[2] += 1\n",
    "    elif (True_distance[i] == 4):\n",
    "        true_rate[3] += 1\n",
    "    elif (True_distance[i] == 5):\n",
    "        true_rate[4] += 1\n",
    "    elif (True_distance[i] == 6):\n",
    "        true_rate[5] += 1\n",
    "    else:\n",
    "        true_rate[6] += 1\n",
    "false_rate = [0]*7\n",
    "for i in range(len(False_distance)):\n",
    "    if (False_distance[i] == 1):\n",
    "        false_rate[0] += 1\n",
    "    elif (False_distance[i] == 2):\n",
    "        false_rate[1] += 1\n",
    "    elif (False_distance[i] == 3):\n",
    "        false_rate[2] += 1\n",
    "    elif (False_distance[i] == 4):\n",
    "        false_rate[3] += 1\n",
    "    elif (False_distance[i] == 5):\n",
    "        false_rate[4] += 1\n",
    "    elif (False_distance[i] == 6):\n",
    "        false_rate[5] += 1\n",
    "    else:\n",
    "        false_rate[6] += 1\n",
    "\n",
    "true_total = 0\n",
    "false_total = 0\n",
    "for i in true_rate:\n",
    "    true_total += i\n",
    "for i in false_rate:\n",
    "    false_total += i\n",
    "\n",
    "print('1, 2, 7 rate', 100*(true_rate[0]+false_rate[0])/(true_total+false_total), ':', 100*(true_rate[1]+false_rate[1])/(true_total+false_total), ':', 100*(true_rate[6]+false_rate[6])/(true_total+false_total))\n",
    "\n",
    "for i in range(len(true_rate)):\n",
    "    true_rate[i] = true_rate[i]/true_total\n",
    "    false_rate[i] = false_rate[i]/false_total\n",
    "    \n",
    "print('1: true:', 100*true_rate[0]/(true_rate[0]+false_rate[0]), '%, false:', 100*false_rate[0]/(true_rate[0]+false_rate[0]), '%')\n",
    "print('2: true:', 100*true_rate[1]/(true_rate[1]+false_rate[1]), '%, false:', 100*false_rate[1]/(true_rate[1]+false_rate[1]), '%')\n",
    "# print('3: true:', 100*true_rate[2]/(true_rate[2]+false_rate[2]), '%, false:', 100*false_rate[2]/(true_rate[2]+false_rate[2]), '%')\n",
    "# print('4: true:', 100*true_rate[3]/(true_rate[3]+false_rate[3]), '%, false:', 100*false_rate[3]/(true_rate[3]+false_rate[3]), '%')\n",
    "# print('5: true:', 100*true_rate[4]/(true_rate[4]+false_rate[4]), '%, false:', 100*false_rate[4]/(true_rate[4]+false_rate[4]), '%')\n",
    "# print('6: true:', 100*true_rate[5]/(true_rate[5]+false_rate[5]), '%, false:', 100*false_rate[5]/(true_rate[5]+false_rate[5]), '%')\n",
    "print('7: true:', 100*true_rate[6]/(true_rate[6]+false_rate[6]), '%, false:', 100*false_rate[6]/(true_rate[6]+false_rate[6]), '%')"
   ]
  },
  {
   "cell_type": "code",
   "execution_count": null,
   "metadata": {
    "colab": {
     "base_uri": "https://localhost:8080/",
     "height": 179
    },
    "colab_type": "code",
    "id": "YyIIYmHhdg0W",
    "outputId": "90af8fbc-ee42-42db-b6ae-dfe62d97e630"
   },
   "outputs": [
    {
     "name": "stdout",
     "output_type": "stream",
     "text": [
      "pure jaccard\n",
      "0.03144844034502633\n",
      "0.045801881666330035\n",
      "0.06843860533644865\n",
      "0.0913964863291681\n",
      "0.0\n",
      "0.0\n",
      "1.0\n",
      "1.0\n"
     ]
    }
   ],
   "source": [
    "# True 인 노드들 특징 파악\n",
    "# 가설: similarity 크다 -> little large\n",
    "True_Jaccard = []\n",
    "False_Jaccard = []\n",
    "next = 0\n",
    "for i in range(len(ans)):\n",
    "    element = query[i]\n",
    "    for j in element:\n",
    "        if j not in data.nodes:\n",
    "            next = 1\n",
    "    if (next == 1):\n",
    "        next = 0\n",
    "        continue\n",
    "    value = jaccard(data, element)\n",
    "    if (ans[i] == 1):\n",
    "        True_Jaccard.append(value)\n",
    "    else:\n",
    "        False_Jaccard.append(value)\n",
    "\n",
    "true = np.array(True_Jaccard)\n",
    "false = np.array(False_Jaccard)\n",
    "\n",
    "print(\"pure jaccard\")\n",
    "print(np.mean(true))    # 0.00487\n",
    "print(np.mean(false))   # 0.07449\n",
    "print(np.std(true))     # 0.00975\n",
    "print(np.std(false))    # 0.119\n",
    "print(np.min(true))     # 0\n",
    "print(np.min(false))    # 0\n",
    "print(np.max(true))     # 0.02439\n",
    "print(np.max(false))    # 0.33333"
   ]
  },
  {
   "cell_type": "code",
   "execution_count": null,
   "metadata": {
    "colab": {
     "base_uri": "https://localhost:8080/",
     "height": 265
    },
    "colab_type": "code",
    "id": "DJR8tJ48R99l",
    "outputId": "1c0292b5-f6e8-46b0-e28f-d5664912cb4f"
   },
   "outputs": [
    {
     "data": {
      "image/png": "[encoded data removed]",
      "text/plain": [
       "<Figure size 432x288 with 1 Axes>"
      ]
     },
     "metadata": {
      "needs_background": "light",
      "tags": []
     },
     "output_type": "display_data"
    }
   ],
   "source": [
    "from matplotlib import pyplot as plt\n",
    "index = []\n",
    "for i in range(len(True_Jaccard)):\n",
    "    index.append(i)\n",
    "\n",
    "index2 = []\n",
    "for i in range(len(False_Jaccard)):\n",
    "    index2.append(i)\n",
    "plt.scatter(index2, False_Jaccard, c='blue', s=5)\n",
    "plt.scatter(index, True_Jaccard, c='red', s=5)\n",
    "plt.show()"
   ]
  },
  {
   "cell_type": "code",
   "execution_count": null,
   "metadata": {
    "colab": {
     "base_uri": "https://localhost:8080/",
     "height": 125
    },
    "colab_type": "code",
    "id": "3CVCbjCuUf-j",
    "outputId": "4177ff4c-e470-4063-8d88-83a974f5f678"
   },
   "outputs": [
    {
     "name": "stdout",
     "output_type": "stream",
     "text": [
      "0~0.2: true: 49.348728009519824 %, false: 50.651271990480176 %\n",
      "0.2~0.4: true: 40.08130081300813 %, false: 59.91869918699187 %\n",
      "0.4~0.6: true: 33.63636363636363 %, false: 66.36363636363636 %\n",
      "0.6~0.8: true: 30.0 %, false: 70.0 %\n",
      "0.8~1.0: true: 11.904761904761905 %, false: 88.0952380952381 %\n",
      "0~0.4, 0.4~1 rate 99.07432950191571 : 0.9256704980842911\n"
     ]
    }
   ],
   "source": [
    "true_rate = [0]*5\n",
    "for i in range(len(True_Jaccard)):\n",
    "    if (0 <= True_Jaccard[i] and True_Jaccard[i] < 0.2):\n",
    "        true_rate[0] += 1\n",
    "    elif (0.2 <= True_Jaccard[i] and True_Jaccard[i] < 0.4):\n",
    "        true_rate[1] += 1\n",
    "    elif (0.4 <= True_Jaccard[i] and True_Jaccard[i] < 0.6):\n",
    "        true_rate[2] += 1\n",
    "    elif (0.6 <= True_Jaccard[i] and True_Jaccard[i] < 0.8):\n",
    "        true_rate[3] += 1\n",
    "    else:\n",
    "        true_rate[4] += 1\n",
    "false_rate = [0]*5\n",
    "for i in range(len(False_Jaccard)):\n",
    "    if (0 <= False_Jaccard[i] and False_Jaccard[i] < 0.2):\n",
    "        false_rate[0] += 1\n",
    "    elif (0.2 <= False_Jaccard[i] and False_Jaccard[i] < 0.4):\n",
    "        false_rate[1] += 1\n",
    "    elif (0.4 <= False_Jaccard[i] and False_Jaccard[i] < 0.6):\n",
    "        false_rate[2] += 1\n",
    "    elif (0.6 <= False_Jaccard[i] and False_Jaccard[i] < 0.8):\n",
    "        false_rate[3] += 1\n",
    "    else:\n",
    "        false_rate[4] += 1\n",
    "\n",
    "print('0~0.2: true:', 100*true_rate[0]/(true_rate[0]+false_rate[0]), '%, false:', 100*false_rate[0]/(true_rate[0]+false_rate[0]), '%')\n",
    "print('0.2~0.4: true:', 100*true_rate[1]/(true_rate[1]+false_rate[1]), '%, false:', 100*false_rate[1]/(true_rate[1]+false_rate[1]), '%')\n",
    "print('0.4~0.6: true:', 100*true_rate[2]/(true_rate[2]+false_rate[2]), '%, false:', 100*false_rate[2]/(true_rate[2]+false_rate[2]), '%')\n",
    "print('0.6~0.8: true:', 100*true_rate[3]/(true_rate[3]+false_rate[3]), '%, false:', 100*false_rate[3]/(true_rate[3]+false_rate[3]), '%')\n",
    "print('0.8~1.0: true:', 100*true_rate[4]/(true_rate[4]+false_rate[4]), '%, false:', 100*false_rate[4]/(true_rate[4]+false_rate[4]), '%')\n",
    "true_total = 0\n",
    "false_total = 0\n",
    "for i in true_rate:\n",
    "    true_total += i\n",
    "for i in false_rate:\n",
    "    false_total += i\n",
    "print('0~0.4, 0.4~1 rate', 100*(true_rate[0]+true_rate[1]+false_rate[0]+false_rate[1])/(true_total+false_total), ':', 100*(true_rate[2]+true_rate[3]+true_rate[4]+false_rate[2]+false_rate[3]+false_rate[4])/(true_total+false_total))"
   ]
  },
  {
   "cell_type": "code",
   "execution_count": null,
   "metadata": {
    "colab": {
     "base_uri": "https://localhost:8080/",
     "height": 179
    },
    "colab_type": "code",
    "id": "1fmgvK-mTNEO",
    "outputId": "28b8cc3e-bfe3-4e36-c9ac-6bdfc8ed431b"
   },
   "outputs": [
    {
     "name": "stdout",
     "output_type": "stream",
     "text": [
      "radius jaccard\n",
      "0.0029603986667706885\n",
      "0.0028662435174170086\n",
      "0.015618376478477768\n",
      "0.013022786888994855\n",
      "0.0\n",
      "0.0\n",
      "0.8571428571428571\n",
      "0.8\n"
     ]
    }
   ],
   "source": [
    "# 가설: similarity 크다 -> little large\n",
    "True_Jaccard = []\n",
    "False_Jaccard = []\n",
    "next = 0\n",
    "for i in range(len(ans)):\n",
    "    element = query[i]\n",
    "    for j in element:\n",
    "        if j not in data.nodes:\n",
    "            next = 1\n",
    "    if (next == 1):\n",
    "        next = 0\n",
    "        continue\n",
    "    value = radius_jaccard(data, element)\n",
    "    if (ans[i] == 1):\n",
    "        True_Jaccard.append(value)\n",
    "    else:\n",
    "        False_Jaccard.append(value)\n",
    "\n",
    "true = np.array(True_Jaccard)\n",
    "false = np.array(False_Jaccard)\n",
    "\n",
    "print(\"radius jaccard\")\n",
    "print(np.mean(true))    # 0.00487\n",
    "print(np.mean(false))   # 0.07449\n",
    "print(np.std(true))     # 0.00975\n",
    "print(np.std(false))    # 0.119\n",
    "print(np.min(true))     # 0\n",
    "print(np.min(false))    # 0\n",
    "print(np.max(true))     # 0.02439\n",
    "print(np.max(false))    # 0.33333"
   ]
  },
  {
   "cell_type": "code",
   "execution_count": null,
   "metadata": {
    "colab": {
     "base_uri": "https://localhost:8080/",
     "height": 161
    },
    "colab_type": "code",
    "id": "wdeUpKZkosfO",
    "outputId": "c2ab3fb1-249c-421d-d79a-77707d1e78d8"
   },
   "outputs": [
    {
     "name": "stdout",
     "output_type": "stream",
     "text": [
      "0.059745661372088574\n",
      "0.06721109419225384\n",
      "0.09011422587360797\n",
      "0.10394594945537455\n",
      "0.0\n",
      "0.0\n",
      "1.0\n",
      "1.0\n"
     ]
    }
   ],
   "source": [
    "# 다른 similarity -> 위에 거보다 안좋아ㅡㅡ\n",
    "True_Jaccard = []\n",
    "False_Jaccard = []\n",
    "next = 0\n",
    "for i in range(len(ans)):\n",
    "    element = query[i]\n",
    "    for j in element:\n",
    "        if j not in data.nodes:\n",
    "            next = 1\n",
    "    if (next == 1):\n",
    "        next = 0\n",
    "        continue\n",
    "    value = averaged_jaccard_similarity(data, element)\n",
    "    if (ans[i] == 1):\n",
    "        True_Jaccard.append(value)\n",
    "    else:\n",
    "        False_Jaccard.append(value)\n",
    "\n",
    "true = np.array(True_Jaccard)\n",
    "false = np.array(False_Jaccard)\n",
    "\n",
    "print(np.mean(true))    # 0.0299\n",
    "print(np.mean(false))   # 0.0188\n",
    "print(np.std(true))     # 0.0517\n",
    "print(np.std(false))    # 0.0374\n",
    "print(np.min(true))     # 0\n",
    "print(np.min(false))    # 0\n",
    "print(np.max(true))     # 0.6428\n",
    "print(np.max(false))    # 0.5828"
   ]
  },
  {
   "cell_type": "code",
   "execution_count": null,
   "metadata": {
    "colab": {
     "base_uri": "https://localhost:8080/",
     "height": 265
    },
    "colab_type": "code",
    "id": "fW0bidYEYBHD",
    "outputId": "6818ac77-b62b-4f86-f69a-90ce3cf8092a"
   },
   "outputs": [
    {
     "data": {
      "image/png": "[encoded data removed]",
      "text/plain": [
       "<Figure size 432x288 with 1 Axes>"
      ]
     },
     "metadata": {
      "needs_background": "light",
      "tags": []
     },
     "output_type": "display_data"
    }
   ],
   "source": [
    "from matplotlib import pyplot as plt\n",
    "index = []\n",
    "for i in range(len(True_Jaccard)):\n",
    "    index.append(i)\n",
    "\n",
    "index2 = []\n",
    "for i in range(len(False_Jaccard)):\n",
    "    index2.append(i)\n",
    "plt.scatter(index2, False_Jaccard, c='blue', s=5)\n",
    "plt.scatter(index, True_Jaccard, c='red', s=5)\n",
    "plt.show()"
   ]
  },
  {
   "cell_type": "code",
   "execution_count": null,
   "metadata": {
    "colab": {
     "base_uri": "https://localhost:8080/",
     "height": 125
    },
    "colab_type": "code",
    "id": "Ywxrvd2vYIBj",
    "outputId": "928a954a-7b3b-403a-b86f-3c064489f715"
   },
   "outputs": [
    {
     "name": "stdout",
     "output_type": "stream",
     "text": [
      "0~0.2: true: 49.137324533485206 %, false: 50.862675466514794 %\n",
      "0.2~0.4: true: 47.014925373134325 %, false: 52.985074626865675 %\n",
      "0.4~0.6: true: 42.40196078431372 %, false: 57.59803921568628 %\n",
      "0.6~0.8: true: 25.53191489361702 %, false: 74.46808510638297 %\n",
      "0.8~1.0: true: 11.627906976744185 %, false: 88.37209302325581 %\n",
      "0~0.6, 0.6~1 rate 99.72413793103448 : 0.27586206896551724\n"
     ]
    }
   ],
   "source": [
    "true_rate = [0]*5\n",
    "for i in range(len(True_Jaccard)):\n",
    "    if (0 <= True_Jaccard[i] and True_Jaccard[i] < 0.2):\n",
    "        true_rate[0] += 1\n",
    "    elif (0.2 <= True_Jaccard[i] and True_Jaccard[i] < 0.4):\n",
    "        true_rate[1] += 1\n",
    "    elif (0.4 <= True_Jaccard[i] and True_Jaccard[i] < 0.6):\n",
    "        true_rate[2] += 1\n",
    "    elif (0.6 <= True_Jaccard[i] and True_Jaccard[i] < 0.8):\n",
    "        true_rate[3] += 1\n",
    "    else:\n",
    "        true_rate[4] += 1\n",
    "false_rate = [0]*5\n",
    "for i in range(len(False_Jaccard)):\n",
    "    if (0 <= False_Jaccard[i] and False_Jaccard[i] < 0.2):\n",
    "        false_rate[0] += 1\n",
    "    elif (0.2 <= False_Jaccard[i] and False_Jaccard[i] < 0.4):\n",
    "        false_rate[1] += 1\n",
    "    elif (0.4 <= False_Jaccard[i] and False_Jaccard[i] < 0.6):\n",
    "        false_rate[2] += 1\n",
    "    elif (0.6 <= False_Jaccard[i] and False_Jaccard[i] < 0.8):\n",
    "        false_rate[3] += 1\n",
    "    else:\n",
    "        false_rate[4] += 1\n",
    "\n",
    "print('0~0.2: true:', 100*true_rate[0]/(true_rate[0]+false_rate[0]), '%, false:', 100*false_rate[0]/(true_rate[0]+false_rate[0]), '%')\n",
    "print('0.2~0.4: true:', 100*true_rate[1]/(true_rate[1]+false_rate[1]), '%, false:', 100*false_rate[1]/(true_rate[1]+false_rate[1]), '%')\n",
    "print('0.4~0.6: true:', 100*true_rate[2]/(true_rate[2]+false_rate[2]), '%, false:', 100*false_rate[2]/(true_rate[2]+false_rate[2]), '%')\n",
    "print('0.6~0.8: true:', 100*true_rate[3]/(true_rate[3]+false_rate[3]), '%, false:', 100*false_rate[3]/(true_rate[3]+false_rate[3]), '%')\n",
    "print('0.8~1.0: true:', 100*true_rate[4]/(true_rate[4]+false_rate[4]), '%, false:', 100*false_rate[4]/(true_rate[4]+false_rate[4]), '%')\n",
    "true_total = 0\n",
    "false_total = 0\n",
    "for i in true_rate:\n",
    "    true_total += i\n",
    "for i in false_rate:\n",
    "    false_total += i\n",
    "print('0~0.6, 0.6~1 rate', 100*(true_rate[0]+true_rate[1]+true_rate[2]+false_rate[0]+false_rate[1]+false_rate[2])/(true_total+false_total), ':', 100*(true_rate[3]+true_rate[4]+false_rate[3]+false_rate[4])/(true_total+false_total))"
   ]
  },
  {
   "cell_type": "code",
   "execution_count": null,
   "metadata": {
    "colab": {
     "base_uri": "https://localhost:8080/",
     "height": 179
    },
    "colab_type": "code",
    "id": "QiLWVLZ1h04O",
    "outputId": "5cb8a688-fb6a-4ea2-d7cf-f4651af95571"
   },
   "outputs": [
    {
     "name": "stdout",
     "output_type": "stream",
     "text": [
      "pure jaccard\n",
      "0.06029973777493321\n",
      "0.06714385576516613\n",
      "0.10688025114747925\n",
      "0.11353174590080312\n",
      "0.0\n",
      "0.0\n",
      "1.0\n",
      "1.0\n"
     ]
    }
   ],
   "source": [
    "# True 인 노드들 특징 파악\n",
    "# 가설: similarity 크다 -> little large\n",
    "True_Jaccard = []\n",
    "False_Jaccard = []\n",
    "next = 0\n",
    "for i in range(len(ans)):\n",
    "    element = query[i]\n",
    "    for j in element:\n",
    "        if j not in data.nodes:\n",
    "            next = 1\n",
    "    if (next == 1):\n",
    "        next = 0\n",
    "        continue\n",
    "    value = min_jaccard(data, element)\n",
    "    if (ans[i] == 1):\n",
    "        True_Jaccard.append(value)\n",
    "    else:\n",
    "        False_Jaccard.append(value)\n",
    "\n",
    "true = np.array(True_Jaccard)\n",
    "false = np.array(False_Jaccard)\n",
    "\n",
    "print(\"pure jaccard\")\n",
    "print(np.mean(true))    # 0.00487\n",
    "print(np.mean(false))   # 0.07449\n",
    "print(np.std(true))     # 0.00975\n",
    "print(np.std(false))    # 0.119\n",
    "print(np.min(true))     # 0\n",
    "print(np.min(false))    # 0\n",
    "print(np.max(true))     # 0.02439\n",
    "print(np.max(false))    # 0.33333"
   ]
  },
  {
   "cell_type": "code",
   "execution_count": null,
   "metadata": {
    "colab": {
     "base_uri": "https://localhost:8080/",
     "height": 265
    },
    "colab_type": "code",
    "id": "n1pIfvVlh9z1",
    "outputId": "df591d65-3aa9-4810-e5f0-96b4497dfacc"
   },
   "outputs": [
    {
     "data": {
      "image/png": "[encoded data removed]",
      "text/plain": [
       "<Figure size 432x288 with 1 Axes>"
      ]
     },
     "metadata": {
      "needs_background": "light",
      "tags": []
     },
     "output_type": "display_data"
    }
   ],
   "source": [
    "index = []\n",
    "for i in range(len(True_Jaccard)):\n",
    "    index.append(i)\n",
    "\n",
    "index2 = []\n",
    "for i in range(len(False_Jaccard)):\n",
    "    index2.append(i)\n",
    "plt.scatter(index2, False_Jaccard, c='blue', s=5)\n",
    "plt.scatter(index, True_Jaccard, c='red', s=5)\n",
    "plt.show()"
   ]
  },
  {
   "cell_type": "code",
   "execution_count": null,
   "metadata": {
    "colab": {
     "base_uri": "https://localhost:8080/",
     "height": 125
    },
    "colab_type": "code",
    "id": "cd6R8PYTiEh7",
    "outputId": "a3d885cf-1b5a-4f56-f6d4-d1971b139eca"
   },
   "outputs": [
    {
     "name": "stdout",
     "output_type": "stream",
     "text": [
      "0~0.2: true: 49.10143161742309 %, false: 50.89856838257691 %\n",
      "0.2~0.4: true: 46.85739055049848 %, false: 53.14260944950152 %\n",
      "0.4~0.6: true: 43.75 %, false: 56.25 %\n",
      "0.6~0.8: true: 44.0 %, false: 56.0 %\n",
      "0.8~1.0: true: 45.348837209302324 %, false: 54.651162790697676 %\n",
      "0~0.4, 0.4~1 rate 97.6367816091954 : 2.363218390804598\n"
     ]
    }
   ],
   "source": [
    "true_rate = [0]*5\n",
    "for i in range(len(True_Jaccard)):\n",
    "    if (0 <= True_Jaccard[i] and True_Jaccard[i] < 0.2):\n",
    "        true_rate[0] += 1\n",
    "    elif (0.2 <= True_Jaccard[i] and True_Jaccard[i] < 0.4):\n",
    "        true_rate[1] += 1\n",
    "    elif (0.4 <= True_Jaccard[i] and True_Jaccard[i] < 0.6):\n",
    "        true_rate[2] += 1\n",
    "    elif (0.6 <= True_Jaccard[i] and True_Jaccard[i] < 0.8):\n",
    "        true_rate[3] += 1\n",
    "    else:\n",
    "        true_rate[4] += 1\n",
    "false_rate = [0]*5\n",
    "for i in range(len(False_Jaccard)):\n",
    "    if (0 <= False_Jaccard[i] and False_Jaccard[i] < 0.2):\n",
    "        false_rate[0] += 1\n",
    "    elif (0.2 <= False_Jaccard[i] and False_Jaccard[i] < 0.4):\n",
    "        false_rate[1] += 1\n",
    "    elif (0.4 <= False_Jaccard[i] and False_Jaccard[i] < 0.6):\n",
    "        false_rate[2] += 1\n",
    "    elif (0.6 <= False_Jaccard[i] and False_Jaccard[i] < 0.8):\n",
    "        false_rate[3] += 1\n",
    "    else:\n",
    "        false_rate[4] += 1\n",
    "\n",
    "print('0~0.2: true:', 100*true_rate[0]/(true_rate[0]+false_rate[0]), '%, false:', 100*false_rate[0]/(true_rate[0]+false_rate[0]), '%')\n",
    "print('0.2~0.4: true:', 100*true_rate[1]/(true_rate[1]+false_rate[1]), '%, false:', 100*false_rate[1]/(true_rate[1]+false_rate[1]), '%')\n",
    "print('0.4~0.6: true:', 100*true_rate[2]/(true_rate[2]+false_rate[2]), '%, false:', 100*false_rate[2]/(true_rate[2]+false_rate[2]), '%')\n",
    "print('0.6~0.8: true:', 100*true_rate[3]/(true_rate[3]+false_rate[3]), '%, false:', 100*false_rate[3]/(true_rate[3]+false_rate[3]), '%')\n",
    "print('0.8~1.0: true:', 100*true_rate[4]/(true_rate[4]+false_rate[4]), '%, false:', 100*false_rate[4]/(true_rate[4]+false_rate[4]), '%')\n",
    "true_total = 0\n",
    "false_total = 0\n",
    "for i in true_rate:\n",
    "    true_total += i\n",
    "for i in false_rate:\n",
    "    false_total += i\n",
    "print('0~0.4, 0.4~1 rate', 100*(true_rate[0]+true_rate[1]+false_rate[0]+false_rate[1])/(true_total+false_total), ':', 100*(true_rate[2]+true_rate[3]+true_rate[4]+false_rate[2]+false_rate[3]+false_rate[4])/(true_total+false_total))"
   ]
  },
  {
   "cell_type": "code",
   "execution_count": null,
   "metadata": {
    "colab": {
     "base_uri": "https://localhost:8080/",
     "height": 161
    },
    "colab_type": "code",
    "id": "kq-yTHJYy1CB",
    "outputId": "f3b12fad-ab5e-417e-ffd1-8a636fb20af0"
   },
   "outputs": [
    {
     "name": "stdout",
     "output_type": "stream",
     "text": [
      "392.64191774598186\n",
      "652.387392752727\n",
      "523.2970743161703\n",
      "751.2422417081672\n",
      "0.0\n",
      "0.0\n",
      "6614.583196482401\n",
      "4704.968053323348\n"
     ]
    }
   ],
   "source": [
    "# adamic adar\n",
    "True_aa = []\n",
    "False_aa = []\n",
    "next = 0\n",
    "\n",
    "for i in range(len(ans)):\n",
    "    element = query[i]\n",
    "    for j in element:\n",
    "        if j not in data.nodes:\n",
    "            next = 1\n",
    "    if (next == 1):\n",
    "        next = 0\n",
    "        continue\n",
    "    value = adamic_adar(data, element)\n",
    "    if (ans[i] == 1):\n",
    "        True_aa.append(value)\n",
    "    else:\n",
    "        False_aa.append(value)\n",
    "\n",
    "true = np.array(True_aa)\n",
    "false = np.array(False_aa)\n",
    "\n",
    "print(np.mean(true))    # 0.0299\n",
    "print(np.mean(false))   # 0.0188\n",
    "print(np.std(true))     # 0.0517\n",
    "print(np.std(false))    # 0.0374\n",
    "print(np.min(true))     # 0\n",
    "print(np.min(false))    # 0\n",
    "print(np.max(true))     # 0.6428\n",
    "print(np.max(false))    # 0.5828"
   ]
  },
  {
   "cell_type": "code",
   "execution_count": 68,
   "metadata": {
    "colab": {
     "base_uri": "https://localhost:8080/",
     "height": 265
    },
    "colab_type": "code",
    "id": "LMPVeUjqhd3M",
    "outputId": "e431cf0b-8081-4ceb-a306-0ded66f45d7d"
   },
   "outputs": [
    {
     "data": {
      "image/png": "[encoded data removed]",
      "text/plain": [
       "<Figure size 432x288 with 1 Axes>"
      ]
     },
     "metadata": {
      "needs_background": "light",
      "tags": []
     },
     "output_type": "display_data"
    }
   ],
   "source": [
    "index = []\n",
    "for i in range(len(True_aa)):\n",
    "    index.append(i)\n",
    "\n",
    "index2 = []\n",
    "for i in range(len(False_aa)):\n",
    "    index2.append(i)\n",
    "plt.scatter(index2, False_aa, c='blue', s=5)\n",
    "plt.scatter(index, True_aa, c='red', s=5)\n",
    "plt.show()"
   ]
  },
  {
   "cell_type": "code",
   "execution_count": 69,
   "metadata": {
    "colab": {
     "base_uri": "https://localhost:8080/",
     "height": 143
    },
    "colab_type": "code",
    "id": "eJyYVNwM6EZY",
    "outputId": "3a02a081-8cb2-42ac-965e-9a40b13896d7"
   },
   "outputs": [
    {
     "name": "stdout",
     "output_type": "stream",
     "text": [
      "0~100, 100~1400 rate 31.298084291187738 : 68.70191570881227\n",
      "0~100: true: 54.00836442026053 %, false: 45.99163557973949 %\n",
      "100~200: true: 64.39252914181914 %, false: 35.60747085818087 %\n",
      "200~400: true: 57.67502266982439 %, false: 42.324977330175614 %\n",
      "400~600: true: 52.30621071060802 %, false: 47.69378928939197 %\n",
      "600~800: true: 46.73021859825656 %, false: 53.26978140174343 %\n",
      "800~1400: true: 31.807955089001172 %, false: 68.19204491099883 %\n"
     ]
    }
   ],
   "source": [
    "true_rate = [0]*6\n",
    "for i in range(len(True_aa)):\n",
    "    if (0 <= True_aa[i] and True_aa[i] < 50):\n",
    "        true_rate[0] += 1\n",
    "    elif (50 <= True_aa[i] and True_aa[i] < 100):\n",
    "        true_rate[1] += 1\n",
    "    elif (100 <= True_aa[i] and True_aa[i] < 200):\n",
    "        true_rate[2] += 1\n",
    "    elif (200 <= True_aa[i] and True_aa[i] < 300):\n",
    "        true_rate[3] += 1\n",
    "    elif (300 <= True_aa[i] and True_aa[i] < 1000):\n",
    "        true_rate[4] += 1\n",
    "    else:\n",
    "        true_rate[5] += 1\n",
    "false_rate = [0]*6\n",
    "for i in range(len(False_aa)):\n",
    "    if (0 <= False_aa[i] and False_aa[i] < 50):\n",
    "        false_rate[0] += 1\n",
    "    elif (50 <= False_aa[i] and False_aa[i] < 100):\n",
    "        false_rate[1] += 1\n",
    "    elif (100 <= False_aa[i] and False_aa[i] < 200):\n",
    "        false_rate[2] += 1\n",
    "    elif (200 <= False_aa[i] and False_aa[i] < 300):\n",
    "        false_rate[3] += 1\n",
    "    elif (300 <= False_aa[i] and False_aa[i] < 1000):\n",
    "        false_rate[4] += 1\n",
    "    else:\n",
    "        false_rate[5] += 1\n",
    "true_total = 0\n",
    "false_total = 0\n",
    "for i in true_rate:\n",
    "    true_total += i\n",
    "for i in false_rate:\n",
    "    false_total += i\n",
    "\n",
    "print('0~1000, 1000~7000 rate', 100*(true_rate[0]+false_rate[0])/(true_total+false_total), ':', 100*(true_total-true_rate[0]+false_total-false_rate[0])/(true_total+false_total))\n",
    "\n",
    "for i in range(len(true_rate)):\n",
    "    true_rate[i] = true_rate[i]/true_total\n",
    "    false_rate[i] = false_rate[i]/false_total\n",
    "    \n",
    "print('0~100: true:', 100*true_rate[0]/(true_rate[0]+false_rate[0]), '%, false:', 100*false_rate[0]/(true_rate[0]+false_rate[0]), '%')\n",
    "print('100~200: true:', 100*true_rate[1]/(true_rate[1]+false_rate[1]), '%, false:', 100*false_rate[1]/(true_rate[1]+false_rate[1]), '%')\n",
    "print('200~400: true:', 100*true_rate[2]/(true_rate[2]+false_rate[2]), '%, false:', 100*false_rate[2]/(true_rate[2]+false_rate[2]), '%')\n",
    "print('400~600: true:', 100*true_rate[3]/(true_rate[3]+false_rate[3]), '%, false:', 100*false_rate[3]/(true_rate[3]+false_rate[3]), '%')\n",
    "print('600~800: true:', 100*true_rate[4]/(true_rate[4]+false_rate[4]), '%, false:', 100*false_rate[4]/(true_rate[4]+false_rate[4]), '%')\n",
    "print('800~1400: true:', 100*true_rate[5]/(true_rate[5]+false_rate[5]), '%, false:', 100*false_rate[5]/(true_rate[5]+false_rate[5]), '%')\n",
    "\n"
   ]
  },
  {
   "cell_type": "code",
   "execution_count": null,
   "metadata": {
    "colab": {
     "base_uri": "https://localhost:8080/",
     "height": 394
    },
    "colab_type": "code",
    "id": "TWPyAItoVhbK",
    "outputId": "2c1073a4-3bef-41ed-85b0-dff1081881ff"
   },
   "outputs": [
    {
     "ename": "KeyboardInterrupt",
     "evalue": "ignored",
     "output_type": "error",
     "traceback": [
      "\u001b[0;31m---------------------------------------------------------------------------\u001b[0m",
      "\u001b[0;31mKeyboardInterrupt\u001b[0m                         Traceback (most recent call last)",
      "\u001b[0;32m<ipython-input-18-a875a962e103>\u001b[0m in \u001b[0;36m<module>\u001b[0;34m()\u001b[0m\n\u001b[1;32m     11\u001b[0m         \u001b[0mnext\u001b[0m \u001b[0;34m=\u001b[0m \u001b[0;36m0\u001b[0m\u001b[0;34m\u001b[0m\u001b[0;34m\u001b[0m\u001b[0m\n\u001b[1;32m     12\u001b[0m         \u001b[0;32mcontinue\u001b[0m\u001b[0;34m\u001b[0m\u001b[0;34m\u001b[0m\u001b[0m\n\u001b[0;32m---> 13\u001b[0;31m     \u001b[0mvalue\u001b[0m \u001b[0;34m=\u001b[0m \u001b[0mradius_jaccard\u001b[0m\u001b[0;34m(\u001b[0m\u001b[0mdata\u001b[0m\u001b[0;34m,\u001b[0m \u001b[0melement\u001b[0m\u001b[0;34m)\u001b[0m\u001b[0;34m\u001b[0m\u001b[0;34m\u001b[0m\u001b[0m\n\u001b[0m\u001b[1;32m     14\u001b[0m     \u001b[0;32mif\u001b[0m \u001b[0;34m(\u001b[0m\u001b[0mans\u001b[0m\u001b[0;34m[\u001b[0m\u001b[0mi\u001b[0m\u001b[0;34m]\u001b[0m \u001b[0;34m==\u001b[0m \u001b[0;36m1\u001b[0m\u001b[0;34m)\u001b[0m\u001b[0;34m:\u001b[0m\u001b[0;34m\u001b[0m\u001b[0;34m\u001b[0m\u001b[0m\n\u001b[1;32m     15\u001b[0m         \u001b[0mTrue_Jaccard\u001b[0m\u001b[0;34m.\u001b[0m\u001b[0mappend\u001b[0m\u001b[0;34m(\u001b[0m\u001b[0mvalue\u001b[0m\u001b[0;34m)\u001b[0m\u001b[0;34m\u001b[0m\u001b[0;34m\u001b[0m\u001b[0m\n",
      "\u001b[0;32m<ipython-input-17-417e51aee2de>\u001b[0m in \u001b[0;36mradius_jaccard\u001b[0;34m(Data_class, hyperedge)\u001b[0m\n\u001b[1;32m      3\u001b[0m     \u001b[0munionset\u001b[0m \u001b[0;34m=\u001b[0m \u001b[0mset\u001b[0m\u001b[0;34m(\u001b[0m\u001b[0;34m)\u001b[0m\u001b[0;34m\u001b[0m\u001b[0;34m\u001b[0m\u001b[0m\n\u001b[1;32m      4\u001b[0m     \u001b[0;32mfor\u001b[0m \u001b[0mnode\u001b[0m \u001b[0;32min\u001b[0m \u001b[0mhyperedge\u001b[0m\u001b[0;34m:\u001b[0m\u001b[0;34m\u001b[0m\u001b[0;34m\u001b[0m\u001b[0m\n\u001b[0;32m----> 5\u001b[0;31m         \u001b[0mnode_set\u001b[0m \u001b[0;34m=\u001b[0m \u001b[0mget_radius_neighbors\u001b[0m\u001b[0;34m(\u001b[0m\u001b[0mData_class\u001b[0m\u001b[0;34m,\u001b[0m \u001b[0mset\u001b[0m\u001b[0;34m(\u001b[0m\u001b[0;34m)\u001b[0m\u001b[0;34m,\u001b[0m \u001b[0mnode\u001b[0m\u001b[0;34m,\u001b[0m \u001b[0;36m1\u001b[0m\u001b[0;34m,\u001b[0m \u001b[0;36m5\u001b[0m\u001b[0;34m)\u001b[0m\u001b[0;34m\u001b[0m\u001b[0;34m\u001b[0m\u001b[0m\n\u001b[0m\u001b[1;32m      6\u001b[0m         \u001b[0mintersect\u001b[0m \u001b[0;34m=\u001b[0m \u001b[0mset\u001b[0m\u001b[0;34m(\u001b[0m\u001b[0mnode_set\u001b[0m\u001b[0;34m)\u001b[0m\u001b[0;34m.\u001b[0m\u001b[0mintersection\u001b[0m\u001b[0;34m(\u001b[0m\u001b[0mintersect\u001b[0m\u001b[0;34m)\u001b[0m\u001b[0;34m\u001b[0m\u001b[0;34m\u001b[0m\u001b[0m\n\u001b[1;32m      7\u001b[0m         \u001b[0munionset\u001b[0m \u001b[0;34m=\u001b[0m \u001b[0mset\u001b[0m\u001b[0;34m(\u001b[0m\u001b[0mnode_set\u001b[0m\u001b[0;34m)\u001b[0m\u001b[0;34m.\u001b[0m\u001b[0munion\u001b[0m\u001b[0;34m(\u001b[0m\u001b[0munionset\u001b[0m\u001b[0;34m)\u001b[0m\u001b[0;34m\u001b[0m\u001b[0;34m\u001b[0m\u001b[0m\n",
      "\u001b[0;32m<ipython-input-11-acf22da10689>\u001b[0m in \u001b[0;36mget_radius_neighbors\u001b[0;34m(Data_class, neighbors, nodeID, iter, max_iter)\u001b[0m\n\u001b[1;32m     47\u001b[0m     \u001b[0mneighbors\u001b[0m \u001b[0;34m=\u001b[0m \u001b[0mold_neighbors\u001b[0m\u001b[0;34m.\u001b[0m\u001b[0munion\u001b[0m\u001b[0;34m(\u001b[0m\u001b[0mnew_neighbors\u001b[0m\u001b[0;34m)\u001b[0m\u001b[0;34m\u001b[0m\u001b[0;34m\u001b[0m\u001b[0m\n\u001b[1;32m     48\u001b[0m     \u001b[0;32mfor\u001b[0m \u001b[0mnode\u001b[0m \u001b[0;32min\u001b[0m \u001b[0mdifference\u001b[0m\u001b[0;34m:\u001b[0m\u001b[0;34m\u001b[0m\u001b[0;34m\u001b[0m\u001b[0m\n\u001b[0;32m---> 49\u001b[0;31m         \u001b[0mneighbors\u001b[0m \u001b[0;34m=\u001b[0m \u001b[0mget_radius_neighbors\u001b[0m\u001b[0;34m(\u001b[0m\u001b[0mData_class\u001b[0m\u001b[0;34m,\u001b[0m \u001b[0mneighbors\u001b[0m\u001b[0;34m,\u001b[0m \u001b[0mnode\u001b[0m\u001b[0;34m,\u001b[0m \u001b[0miter\u001b[0m\u001b[0;34m+\u001b[0m\u001b[0;36m1\u001b[0m\u001b[0;34m,\u001b[0m \u001b[0mmax_iter\u001b[0m\u001b[0;34m)\u001b[0m\u001b[0;34m\u001b[0m\u001b[0;34m\u001b[0m\u001b[0m\n\u001b[0m\u001b[1;32m     50\u001b[0m     \u001b[0;32mreturn\u001b[0m \u001b[0mneighbors\u001b[0m\u001b[0;34m\u001b[0m\u001b[0;34m\u001b[0m\u001b[0m\n\u001b[1;32m     51\u001b[0m \u001b[0;34m\u001b[0m\u001b[0m\n",
      "\u001b[0;32m<ipython-input-11-acf22da10689>\u001b[0m in \u001b[0;36mget_radius_neighbors\u001b[0;34m(Data_class, neighbors, nodeID, iter, max_iter)\u001b[0m\n\u001b[1;32m     47\u001b[0m     \u001b[0mneighbors\u001b[0m \u001b[0;34m=\u001b[0m \u001b[0mold_neighbors\u001b[0m\u001b[0;34m.\u001b[0m\u001b[0munion\u001b[0m\u001b[0;34m(\u001b[0m\u001b[0mnew_neighbors\u001b[0m\u001b[0;34m)\u001b[0m\u001b[0;34m\u001b[0m\u001b[0;34m\u001b[0m\u001b[0m\n\u001b[1;32m     48\u001b[0m     \u001b[0;32mfor\u001b[0m \u001b[0mnode\u001b[0m \u001b[0;32min\u001b[0m \u001b[0mdifference\u001b[0m\u001b[0;34m:\u001b[0m\u001b[0;34m\u001b[0m\u001b[0;34m\u001b[0m\u001b[0m\n\u001b[0;32m---> 49\u001b[0;31m         \u001b[0mneighbors\u001b[0m \u001b[0;34m=\u001b[0m \u001b[0mget_radius_neighbors\u001b[0m\u001b[0;34m(\u001b[0m\u001b[0mData_class\u001b[0m\u001b[0;34m,\u001b[0m \u001b[0mneighbors\u001b[0m\u001b[0;34m,\u001b[0m \u001b[0mnode\u001b[0m\u001b[0;34m,\u001b[0m \u001b[0miter\u001b[0m\u001b[0;34m+\u001b[0m\u001b[0;36m1\u001b[0m\u001b[0;34m,\u001b[0m \u001b[0mmax_iter\u001b[0m\u001b[0;34m)\u001b[0m\u001b[0;34m\u001b[0m\u001b[0;34m\u001b[0m\u001b[0m\n\u001b[0m\u001b[1;32m     50\u001b[0m     \u001b[0;32mreturn\u001b[0m \u001b[0mneighbors\u001b[0m\u001b[0;34m\u001b[0m\u001b[0;34m\u001b[0m\u001b[0m\n\u001b[1;32m     51\u001b[0m \u001b[0;34m\u001b[0m\u001b[0m\n",
      "\u001b[0;31mKeyboardInterrupt\u001b[0m: "
     ]
    }
   ],
   "source": [
    "# 가설: similarity 크다 -> little large\n",
    "True_Jaccard = []\n",
    "False_Jaccard = []\n",
    "next = 0\n",
    "for i in range(len(ans)):\n",
    "    element = query[i]\n",
    "    for j in element:\n",
    "        if j not in data.nodes:\n",
    "            next = 1\n",
    "    if (next == 1):\n",
    "        next = 0\n",
    "        continue\n",
    "    value = radius_jaccard(data, element)\n",
    "    if (ans[i] == 1):\n",
    "        True_Jaccard.append(value)\n",
    "    else:\n",
    "        False_Jaccard.append(value)\n",
    "\n",
    "true = np.array(True_Jaccard)\n",
    "false = np.array(False_Jaccard)\n",
    "\n",
    "print(\"radius jaccard\")\n",
    "print(np.mean(true))    # 0.00487\n",
    "print(np.mean(false))   # 0.07449\n",
    "print(np.std(true))     # 0.00975\n",
    "print(np.std(false))    # 0.119\n",
    "print(np.min(true))     # 0\n",
    "print(np.min(false))    # 0\n",
    "print(np.max(true))     # 0.02439\n",
    "print(np.max(false))    # 0.33333"
   ]
  },
  {
   "cell_type": "code",
   "execution_count": null,
   "metadata": {
    "colab": {
     "base_uri": "https://localhost:8080/",
     "height": 35
    },
    "colab_type": "code",
    "id": "D6ixF9Lo0cX8",
    "outputId": "95e237e4-b22d-4d26-e495-60c467f6c928"
   },
   "outputs": [
    {
     "name": "stdout",
     "output_type": "stream",
     "text": [
      "<class 'dict'>\n"
     ]
    }
   ],
   "source": [
    "if 47879 in data.neighbors.items():\n",
    "    print(1)\n",
    "print(type(data.neighbors))"
   ]
  },
  {
   "cell_type": "code",
   "execution_count": null,
   "metadata": {
    "colab": {},
    "colab_type": "code",
    "id": "A4UjSRGZdrFH"
   },
   "outputs": [],
   "source": [
    "# community 안에 있다 -> yes or no\n"
   ]
  },
  {
   "cell_type": "code",
   "execution_count": null,
   "metadata": {
    "colab": {},
    "colab_type": "code",
    "id": "YwAZ_t45drfJ"
   },
   "outputs": [],
   "source": [
    "# 새로운 node에 대해 모두 false다 -> no\n"
   ]
  },
  {
   "cell_type": "code",
   "execution_count": null,
   "metadata": {
    "colab": {},
    "colab_type": "code",
    "id": "RfoSxWpod0B2"
   },
   "outputs": [],
   "source": [
    "# 딥러닝 가능하다 -> yes or no\n"
   ]
  },
  {
   "cell_type": "code",
   "execution_count": null,
   "metadata": {
    "colab": {},
    "colab_type": "code",
    "id": "q9V8_VUpd8V2"
   },
   "outputs": [],
   "source": []
  },
  {
   "cell_type": "code",
   "execution_count": null,
   "metadata": {
    "colab": {},
    "colab_type": "code",
    "id": "mp1nbYyAZ0mW"
   },
   "outputs": [],
   "source": [
    "# np.random.seed(20)\n",
    "\n",
    "def hyper_PA(Data_class, m=8, update_iter=1000, rejection_type = 'jaccard', threshold = 0):\n",
    "    def calculate_prob(degrees):\n",
    "        prob = dict()\n",
    "        deg_sum = np.sum([deg for deg in degrees.values()])\n",
    "        for node, degree in degrees.items():\n",
    "            prob[node] = degree/deg_sum\n",
    "        return prob\n",
    "\n",
    "    if rejection_type == 'None':\n",
    "        similarity_measure = no_similarity\n",
    "    elif rejection_type == 'jaccard':\n",
    "        similarity_measure = jaccard\n",
    "    elif rejection_type == 'av_jaccard':\n",
    "        similarity_measure = averaged_jaccard_similarity\n",
    "    elif rejection_type == 'adamic_adar':\n",
    "        similarity_measure = adamic_adar\n",
    "\n",
    "    time_sequence = np.random.poisson(3.733768166932799, update_iter)\n",
    "\n",
    "    ## select m node\n",
    "    for num_add_node in time_sequence:\n",
    "        if (num_add_node == 0):\n",
    "            num_add_node = 1\n",
    "        node_choices = random.choices(list(Data_class.nodes), k=m)\n",
    "        p = calculate_prob(Data_class.degrees)\n",
    "\n",
    "        for node1 in node_choices:\n",
    "            while 1:\n",
    "                new_edge = [node1] + list(random.choices(list(p.keys()), weights=list(p.values()), k=num_add_node))\n",
    "                if (new_edge in Data_class.edges.values()):\n",
    "                    continue\n",
    "                edge_similarity = similarity_measure(Data_class, new_edge)\n",
    "                # print(edge_similarity)\n",
    "                if (edge_similarity > threshold):\n",
    "                    Data_class.add_edge(new_edge)\n",
    "                    break\n",
    "\n",
    "            ## in addition to adding edge, other self feature should be updated.\n",
    "            ## have to restrict the maximum length of hyper edges\n",
    "            ## 2-hop\n",
    "\n",
    "\n",
    "# def predict(Graph, edge):   \n",
    "\n",
    "#     if edge in Graph.edges.values():\n",
    "#         pred = True\n",
    "#     else:\n",
    "#         pred = False\n",
    "\n",
    "#     return pred\n",
    "\n",
    "# def evaluate(Graph, Query):\n",
    "\n",
    "#     tp = tn = fp = fn = 0\n",
    "\n",
    "#     for i in range(len(Query.query)):\n",
    "\n",
    "#         pred = predict(Graph, Query.query[i])\n",
    "        \n",
    "#         if (Query.answer == True) & (pred == True):\n",
    "#             tp += 1\n",
    "#         elif (Query.answer == True) & (pred == False):\n",
    "#             tn += 1\n",
    "#         elif (Query.answer == False) & (pred == True):\n",
    "#             fp += 1\n",
    "#         else:\n",
    "#             fn += 1\n",
    "\n",
    "#     precision = tp / (tp+fp)\n",
    "#     recall = tp / (tp+tn)\n",
    "#     f1 = 2*precision*recall/(precision+recall)\n",
    "#     return precision, recall, f1\n",
    "\n",
    "\n"
   ]
  },
  {
   "cell_type": "code",
   "execution_count": null,
   "metadata": {
    "colab": {},
    "colab_type": "code",
    "id": "Y3uQBx3dZ2ru"
   },
   "outputs": [],
   "source": [
    "def predict(Graph, edge, method='common_edge'):\n",
    "\n",
    "    if method == 'common_edge':\n",
    "        if edge in Graph.edges.values():\n",
    "            pred = True\n",
    "        else:\n",
    "            pred = False\n",
    "\n",
    "    elif method =='neighbor':\n",
    "        cnt = 0\n",
    "        for i in range(len(edge)):\n",
    "            for j in range(i+1, len(edge)):\n",
    "                if (edge[i] not in Graph.nodes) | (edge[j] not in Graph.nodes):\n",
    "                    continue\n",
    "                if edge[j] in Graph.neighbors[edge[i]]:\n",
    "                    cnt += 1\n",
    "\n",
    "        if cnt > 0:\n",
    "            pred = True\n",
    "        else:\n",
    "            pred = False\n",
    "\n",
    "    return pred\n",
    "\n",
    "def evaluate(Graph, Query, predict_method='common_edge'):\n",
    "\n",
    "    tp = tn = fp = fn = 0\n",
    "\n",
    "    for i in range(len(Query.query)):\n",
    "\n",
    "        pred = predict(Graph, Query.query[i], method=predict_method)\n",
    "\n",
    "        if (Query.answer[i] == 'True\\n') & (pred == True):\n",
    "            tp += 1\n",
    "        elif (Query.answer[i] == 'True\\n') & (pred == False):\n",
    "            tn += 1\n",
    "        elif (Query.answer[i] == 'False\\n') & (pred == True):\n",
    "            fp += 1\n",
    "        elif (Query.answer[i] == 'False\\n') & (pred == False):\n",
    "            fn += 1\n",
    "    if (tp+fp == 0):\n",
    "        precision = 0\n",
    "    else:\n",
    "        precision = tp / (tp+fp)\n",
    "    if (tp+tn == 0):\n",
    "        recall = 0\n",
    "    else:\n",
    "        recall = tp / (tp+tn)\n",
    "    if (precision+recall == 0):\n",
    "        f1 = 0\n",
    "    else:\n",
    "        f1 = 2*precision*recall/(precision+recall)\n",
    "    return precision, recall, f1"
   ]
  },
  {
   "cell_type": "code",
   "execution_count": null,
   "metadata": {
    "colab": {},
    "colab_type": "code",
    "id": "--aoMZjKZ456"
   },
   "outputs": [],
   "source": [
    "import time\n",
    "start = time.time()\n",
    "data = Hypergraph()\n",
    "print(time.time() - start)"
   ]
  },
  {
   "cell_type": "code",
   "execution_count": null,
   "metadata": {
    "colab": {},
    "colab_type": "code",
    "id": "93Ky3iZhZ6-Y"
   },
   "outputs": [],
   "source": [
    "start = time.time()\n",
    "query = Query()\n",
    "print(time.time() - start)"
   ]
  },
  {
   "cell_type": "code",
   "execution_count": null,
   "metadata": {
    "colab": {},
    "colab_type": "code",
    "id": "VFQg0i3eZ_8n"
   },
   "outputs": [],
   "source": [
    "start = time.time()\n",
    "hyper_PA(data, update_iter=1000, threshold=50, rejection_type='adamic_adar')\n",
    "print(time.time() - start)"
   ]
  },
  {
   "cell_type": "code",
   "execution_count": null,
   "metadata": {
    "colab": {},
    "colab_type": "code",
    "id": "CiXAFdIaaB2Q"
   },
   "outputs": [],
   "source": [
    "start = time.time()\n",
    "precision, recall, f1_scrore = evaluate(data, query, 'neighbor')\n",
    "print(time.time() - start)\n",
    "print(precision, recall, f1_scrore)"
   ]
  },
  {
   "cell_type": "code",
   "execution_count": null,
   "metadata": {
    "colab": {
     "base_uri": "https://localhost:8080/",
     "height": 107
    },
    "colab_type": "code",
    "id": "uNVv-FGG8ss4",
    "outputId": "a5b0c330-27c2-4d5c-ff39-6026ecfd6d73"
   },
   "outputs": [
    {
     "name": "stdout",
     "output_type": "stream",
     "text": [
      "Unknown TensorFlow version: only exists in Colab.\n",
      "Currently selected TF version: 2.x\n",
      "Available versions:\n",
      " * 1.x\n",
      " * 2.x\n"
     ]
    }
   ],
   "source": [
    "# Python ≥3.5 is required\n",
    "import sys\n",
    "assert sys.version_info >= (3, 5)\n",
    "\n",
    "# Scikit-Learn ≥0.20 is required\n",
    "import sklearn\n",
    "assert sklearn.__version__ >= \"0.20\"\n",
    "\n",
    "# Install TensorFlow\n",
    "try:\n",
    "  %tensorflow_version only exists in Colab.\n",
    "  %tensorflow_version 2.x\n",
    "except Exception:\n",
    "  pass\n",
    "\n",
    "# TensorFlow ≥2.0-preview is required\n",
    "import tensorflow as tf\n",
    "from tensorflow import keras\n",
    "assert tf.__version__ >= \"2.0\""
   ]
  },
  {
   "cell_type": "code",
   "execution_count": null,
   "metadata": {
    "colab": {},
    "colab_type": "code",
    "id": "R6lqm52wZiUn"
   },
   "outputs": [],
   "source": []
  },
  {
   "cell_type": "code",
   "execution_count": null,
   "metadata": {
    "colab": {},
    "colab_type": "code",
    "id": "XiuUHtq9TXLe"
   },
   "outputs": [],
   "source": [
    "import sys\n",
    "import os\n",
    "import numpy as np\n",
    "import pandas as pd\n",
    "import random\n",
    "import networkx"
   ]
  },
  {
   "cell_type": "code",
   "execution_count": null,
   "metadata": {
    "colab": {
     "base_uri": "https://localhost:8080/",
     "height": 127
    },
    "colab_type": "code",
    "id": "Tn-cy3TLkxde",
    "outputId": "9ab50db9-3308-4fa0-a242-82dd1779492c"
   },
   "outputs": [
    {
     "name": "stdout",
     "output_type": "stream",
     "text": [
      "Go to this URL in a browser: https://accounts.google.com/o/oauth2/auth?client_id=947318989803-6bn6qk8qdgf4n4g3pfee6491hc0brc4i.apps.googleusercontent.com&redirect_uri=urn%3aietf%3awg%3aoauth%3a2.0%3aoob&response_type=code&scope=email%20https%3a%2f%2fwww.googleapis.com%2fauth%2fdocs.test%20https%3a%2f%2fwww.googleapis.com%2fauth%2fdrive%20https%3a%2f%2fwww.googleapis.com%2fauth%2fdrive.photos.readonly%20https%3a%2f%2fwww.googleapis.com%2fauth%2fpeopleapi.readonly\n",
      "\n",
      "Enter your authorization code:\n",
      "··········\n",
      "Mounted at /content/drive/\n"
     ]
    }
   ],
   "source": [
    "from google.colab import drive\n",
    "drive.mount('/content/drive/')"
   ]
  },
  {
   "cell_type": "code",
   "execution_count": null,
   "metadata": {
    "colab": {},
    "colab_type": "code",
    "id": "Qr2y0FVyk-RG"
   },
   "outputs": [],
   "source": [
    "os.chdir('drive/My Drive/Colab Notebooks/')"
   ]
  },
  {
   "cell_type": "code",
   "execution_count": null,
   "metadata": {
    "colab": {},
    "colab_type": "code",
    "id": "EpinuentTXL2"
   },
   "outputs": [],
   "source": [
    "class Data():\n",
    "    \n",
    "    def __init__(self, path):\n",
    "        self.data = {}\n",
    "        pub = 1\n",
    "        with open( path, 'r') as f:\n",
    "            while 1: \n",
    "                line = f.readline()\n",
    "                line = line.split(' ')\n",
    "                if line==['']:\n",
    "                    break\n",
    "                for idx, author in enumerate(line):\n",
    "                    line[idx] = line[idx].replace('\\n','')\n",
    "                    line[idx] = int(line[idx])\n",
    "                self.data[pub] = line\n",
    "                pub += 1    \n",
    "        \n",
    "        self.nodes = self.nodes()\n",
    "        self.edges = self.hyper_edges()\n",
    "        self.degrees = self.hyper_degrees()\n",
    "        self.nbd_edgelist = self.hyper_neighbor_edge()\n",
    "        \n",
    "    def nodes(self):\n",
    "        node = set()\n",
    "        for edge in self.data.values():\n",
    "            for _node in edge:\n",
    "                node.add(_node)\n",
    "        return node\n",
    "    \n",
    "    def hyper_edges(self):\n",
    "        edges = dict()\n",
    "        for idx, edge in enumerate(self.data.values()):\n",
    "            edges[idx]=edge\n",
    "        return edges\n",
    "    \n",
    "    def hyper_degrees(self):\n",
    "        degrees = dict()\n",
    "        for edge in self.edges.values():\n",
    "            for node in edge:\n",
    "                if node not in degrees.keys():\n",
    "                    degrees[node] = 1\n",
    "                else:\n",
    "                    degrees[node] +=1\n",
    "        return degrees\n",
    "        \n",
    "    def hyper_neighbor_edge(self):\n",
    "        nbd_edgelist = dict()\n",
    "        for idx, edge in self.edges.items():\n",
    "            for node in edge:\n",
    "                if node not in nbd_edgelist.keys():\n",
    "                    nbd_edgelist[node] = []\n",
    "                    nbd_edgelist[node].append(idx)\n",
    "                else:\n",
    "                    nbd_edgelist[node].append(idx)\n",
    "        return nbd_edgelist\n",
    "        \n",
    "    def add_edge(self, edge):\n",
    "        idx = len(self.edges) + 1\n",
    "        self.edges.update({idx:edge})\n",
    "        \n",
    "        for node in edge:\n",
    "            self.degrees[node] += 1\n",
    "        \n",
    "        \n",
    "    def get_authors_publication(self):\n",
    "        aut_pub = dict()\n",
    "        for aut_list in self.data.values():\n",
    "            for aut in aut_list:\n",
    "                if aut not in aut_pub.keys():\n",
    "                    aut_pub[aut] = 0    \n",
    "                aut_pub[aut] += 1\n",
    "        \n",
    "        return aut_pub"
   ]
  },
  {
   "cell_type": "code",
   "execution_count": null,
   "metadata": {
    "colab": {},
    "colab_type": "code",
    "id": "tkvpeSqhi2ff"
   },
   "outputs": [],
   "source": [
    "from collections import defaultdict\n",
    "from typing import DefaultDict, Dict, Set, TextIO, Tuple, Union, List"
   ]
  },
  {
   "cell_type": "code",
   "execution_count": null,
   "metadata": {
    "colab": {},
    "colab_type": "code",
    "id": "ZAhANAICUulg"
   },
   "outputs": [],
   "source": [
    "def hyper_PA_Sojeong(Data_class, update_iter=50, threshold=10):\n",
    "    def calculate_prob(degrees):\n",
    "        prob = dict()\n",
    "        deg_sum = np.sum([deg for deg in degrees.values()])\n",
    "        for node, degree in degrees.items():\n",
    "            prob[node] = degree/deg_sum\n",
    "        return prob\n",
    "\n",
    "    def rejection_sampling(hyperedge, threshold):\n",
    "        # Katz\n",
    "\n",
    "        # Adamic/adar\n",
    "        # hyperedge에 속하는 노드들의 공통 이웃들\n",
    "        # 근데 hyperedge라서 공통 이웃이 너무 적을 거 같은데ㅜㅜ?\n",
    "        common_neighbors = set(Data_class.nbd_edgelist[hyperedge[0]])\n",
    "        for node in hyperedge:\n",
    "            common_neighbors = set(Data_class.nbd_edgelist[node]).intersection(common_neighbors)\n",
    "        \n",
    "        # 공통 이웃들의 degree에 log씌우고 1에서 나눠서 다 더하기\n",
    "        Adamic_adar = 0\n",
    "        for node in common_neighbors:\n",
    "            Adamic_adar += 1.0/np.log(Data_class.degrees[node])\n",
    "        # sum([1.0/np.log(Data_class.degree(w) for w in hyperedge)])\n",
    "        if (Adamic_adar > threshold):\n",
    "            return True\n",
    "        else:\n",
    "            return False\n",
    "\n",
    "    # select a random hyperedge(degree distribution) to add on hypergraph\n",
    "    # 갯수 고르기\n",
    "    degree_range = []\n",
    "    for i in range(1, 25):\n",
    "        degree_range.append(i)\n",
    "\n",
    "    degree_distribution = [91241, 31701, 8651, 2662, 1087, 588, 384, 262, 215, 184, 155, 128, 121, 80, 96, 60, 58, 60, 65, 50, 24, 24, 36, 27]\n",
    "    sum_value = sum(degree_distribution)\n",
    "\n",
    "    for i in range(len(degree_distribution)):\n",
    "        degree_distribution[i] = float(degree_distribution[i])/sum_value\n",
    "\n",
    "    len_deg = random.choices(degree_range, weights=degree_distribution, k=update_iter)\n",
    "    print(len_deg)\n",
    "    # 그 갯수대로 random nodes 고르기 node고를 때 hyper_PA 적용하기\n",
    "    p = calculate_prob(Data_class.degrees)\n",
    "    for i in range(len(len_deg)):\n",
    "        while(True):\n",
    "            candidate_hyperedge = random.choices(list(p.keys()), weights=list(p.values()), k=len_deg[i])\n",
    "            # hyperedge 적용할지 말지를 local similarity로 filtering 하기 networkx이용하기\n",
    "            if rejection_sampling(candidate_hyperedge, threshold):\n",
    "                if new_edge not in Data_class.edges.values():\n",
    "                    break\n",
    "        # okay되면 추가하기\n",
    "        Data_class.add_edge(new_edge)\n"
   ]
  },
  {
   "cell_type": "code",
   "execution_count": null,
   "metadata": {
    "colab": {},
    "colab_type": "code",
    "id": "w8m33YlwdApJ"
   },
   "outputs": [],
   "source": [
    "hyper_PA_Sojeong\n",
    "data.degrees"
   ]
  },
  {
   "cell_type": "code",
   "execution_count": null,
   "metadata": {
    "colab": {
     "base_uri": "https://localhost:8080/",
     "height": 89
    },
    "colab_type": "code",
    "id": "QZeKjorcye-Z",
    "outputId": "a4a00356-dcd7-4bf3-89d2-5f1478b05904"
   },
   "outputs": [
    {
     "name": "stdout",
     "output_type": "stream",
     "text": [
      "(27584, 1)\n",
      "(27583, 1)\n",
      "(6896, 1)\n",
      "(6896, 1)\n"
     ]
    }
   ],
   "source": [
    "# 이제 hyper_PA의 parameter과 정답률을 학습해서 얼마나 추가할지 결정한다.\n",
    "X = pd.read_csv('./project_data/query_public.txt')\n",
    "y = pd.read_csv('./project_data/answer_public.txt', names=['answer'])\n",
    "\n",
    "np.random.seed(42)\n",
    "tf.random.set_seed(42)\n",
    "\n",
    "train_X = X.sample(frac=0.8, random_state=0) # 80%\n",
    "train_y = y.sample(frac=0.8, random_state=0)\n",
    "test_X = X.drop(train_X.index) # 20%\n",
    "test_y = y.drop(train_y.index)\n",
    "\n",
    "print(train_X.shape)\n",
    "print(train_y.shape)\n",
    "print(test_X.shape)\n",
    "print(test_y.shape)\n",
    "# 학습모델: \n",
    "\n",
    "# 정답률 예측하기\n",
    "\n",
    "# accuracy, recall, precision, f1-score - 저번 과제 plot가져오기\n"
   ]
  },
  {
   "cell_type": "code",
   "execution_count": null,
   "metadata": {
    "colab": {
     "base_uri": "https://localhost:8080/",
     "height": 35
    },
    "colab_type": "code",
    "id": "dSiM4E-Q-Kf2",
    "outputId": "e17be3f4-8e4c-4d17-c46d-600eda5f5d9b"
   },
   "outputs": [
    {
     "data": {
      "text/plain": [
       "(34479, 1)"
      ]
     },
     "execution_count": 44,
     "metadata": {
      "tags": []
     },
     "output_type": "execute_result"
    }
   ],
   "source": [
    "y.shape"
   ]
  },
  {
   "cell_type": "code",
   "execution_count": null,
   "metadata": {
    "colab": {
     "base_uri": "https://localhost:8080/",
     "height": 35
    },
    "colab_type": "code",
    "id": "tY5I3VeJ-R4r",
    "outputId": "be343935-c56c-4540-eb36-9309e5db2c95"
   },
   "outputs": [
    {
     "data": {
      "text/plain": [
       "(34480, 1)"
      ]
     },
     "execution_count": 45,
     "metadata": {
      "tags": []
     },
     "output_type": "execute_result"
    }
   ],
   "source": [
    "X.shape"
   ]
  },
  {
   "cell_type": "code",
   "execution_count": null,
   "metadata": {
    "colab": {
     "base_uri": "https://localhost:8080/",
     "height": 204
    },
    "colab_type": "code",
    "id": "VZ6m5PgB-UjF",
    "outputId": "a6c52a5f-b76b-4577-f333-0913c6706543"
   },
   "outputs": [
    {
     "data": {
      "text/html": [
       "<div>\n",
       "<style scoped>\n",
       "    .dataframe tbody tr th:only-of-type {\n",
       "        vertical-align: middle;\n",
       "    }\n",
       "\n",
       "    .dataframe tbody tr th {\n",
       "        vertical-align: top;\n",
       "    }\n",
       "\n",
       "    .dataframe thead th {\n",
       "        text-align: right;\n",
       "    }\n",
       "</style>\n",
       "<table border=\"1\" class=\"dataframe\">\n",
       "  <thead>\n",
       "    <tr style=\"text-align: right;\">\n",
       "      <th></th>\n",
       "      <th>query</th>\n",
       "    </tr>\n",
       "  </thead>\n",
       "  <tbody>\n",
       "    <tr>\n",
       "      <th>0</th>\n",
       "      <td>34479</td>\n",
       "    </tr>\n",
       "    <tr>\n",
       "      <th>1</th>\n",
       "      <td>17663 23914 54649</td>\n",
       "    </tr>\n",
       "    <tr>\n",
       "      <th>2</th>\n",
       "      <td>3948 41465 46829 54524</td>\n",
       "    </tr>\n",
       "    <tr>\n",
       "      <th>3</th>\n",
       "      <td>16467 40080</td>\n",
       "    </tr>\n",
       "    <tr>\n",
       "      <th>4</th>\n",
       "      <td>16193 50039 56134</td>\n",
       "    </tr>\n",
       "  </tbody>\n",
       "</table>\n",
       "</div>"
      ],
      "text/plain": [
       "                    query\n",
       "0                   34479\n",
       "1       17663 23914 54649\n",
       "2  3948 41465 46829 54524\n",
       "3             16467 40080\n",
       "4       16193 50039 56134"
      ]
     },
     "execution_count": 46,
     "metadata": {
      "tags": []
     },
     "output_type": "execute_result"
    }
   ],
   "source": [
    "X.head()"
   ]
  },
  {
   "cell_type": "code",
   "execution_count": null,
   "metadata": {
    "colab": {
     "base_uri": "https://localhost:8080/",
     "height": 204
    },
    "colab_type": "code",
    "id": "AKI9TjmE-i8d",
    "outputId": "08c9a536-dbe9-4c51-8838-57c4c1e5dedc"
   },
   "outputs": [
    {
     "data": {
      "text/html": [
       "<div>\n",
       "<style scoped>\n",
       "    .dataframe tbody tr th:only-of-type {\n",
       "        vertical-align: middle;\n",
       "    }\n",
       "\n",
       "    .dataframe tbody tr th {\n",
       "        vertical-align: top;\n",
       "    }\n",
       "\n",
       "    .dataframe thead th {\n",
       "        text-align: right;\n",
       "    }\n",
       "</style>\n",
       "<table border=\"1\" class=\"dataframe\">\n",
       "  <thead>\n",
       "    <tr style=\"text-align: right;\">\n",
       "      <th></th>\n",
       "      <th>answer</th>\n",
       "    </tr>\n",
       "  </thead>\n",
       "  <tbody>\n",
       "    <tr>\n",
       "      <th>0</th>\n",
       "      <td>False</td>\n",
       "    </tr>\n",
       "    <tr>\n",
       "      <th>1</th>\n",
       "      <td>False</td>\n",
       "    </tr>\n",
       "    <tr>\n",
       "      <th>2</th>\n",
       "      <td>False</td>\n",
       "    </tr>\n",
       "    <tr>\n",
       "      <th>3</th>\n",
       "      <td>True</td>\n",
       "    </tr>\n",
       "    <tr>\n",
       "      <th>4</th>\n",
       "      <td>True</td>\n",
       "    </tr>\n",
       "  </tbody>\n",
       "</table>\n",
       "</div>"
      ],
      "text/plain": [
       "   answer\n",
       "0   False\n",
       "1   False\n",
       "2   False\n",
       "3    True\n",
       "4    True"
      ]
     },
     "execution_count": 47,
     "metadata": {
      "tags": []
     },
     "output_type": "execute_result"
    }
   ],
   "source": [
    "y.head()"
   ]
  },
  {
   "cell_type": "code",
   "execution_count": null,
   "metadata": {
    "colab": {},
    "colab_type": "code",
    "id": "7TfNkDz19Ati"
   },
   "outputs": [],
   "source": [
    "model_FCN = keras.models.Sequential([\n",
    "    keras.layers.Flatten(input_shape=[28, 28, 1]),\n",
    "    keras.layers.Dense(units=1024, activation='relu'),\n",
    "    keras.layers.Dense(units=512, activation='relu'),\n",
    "    keras.layers.Dense(units=256, activation='relu'),\n",
    "    keras.layers.Dense(units=128, activation='relu'),\n",
    "    keras.layers.Dense(units=5, activation='softmax'),\n",
    "])\n",
    "from functools import partial\n",
    "\n",
    "DefaultConv2D = partial(keras.layers.Conv2D,\n",
    "                        kernel_size=3, activation='relu', padding=\"SAME\")\n",
    "\n",
    "model = keras.models.Sequential([\n",
    "    DefaultConv2D(filters=64, kernel_size=5, input_shape=[28, 28, 1]),\n",
    "    keras.layers.MaxPooling2D(pool_size=2),\n",
    "    DefaultConv2D(filters=128),\n",
    "    DefaultConv2D(filters=128),\n",
    "    keras.layers.MaxPooling2D(pool_size=2),\n",
    "    keras.layers.Flatten(),\n",
    "    keras.layers.Dense(units=128, activation='relu'),\n",
    "    keras.layers.Dense(units=64, activation='relu'),\n",
    "    keras.layers.Dense(units=5, activation='softmax'),\n",
    "])"
   ]
  },
  {
   "cell_type": "code",
   "execution_count": null,
   "metadata": {
    "colab": {
     "base_uri": "https://localhost:8080/",
     "height": 432
    },
    "colab_type": "code",
    "id": "AXxgErKx9H2J",
    "outputId": "6e3bfdcb-b1a5-4bf9-b2f9-fb6bf9db90d7"
   },
   "outputs": [
    {
     "ename": "ValueError",
     "evalue": "ignored",
     "output_type": "error",
     "traceback": [
      "\u001b[0;31m---------------------------------------------------------------------------\u001b[0m",
      "\u001b[0;31mValueError\u001b[0m                                Traceback (most recent call last)",
      "\u001b[0;32m<ipython-input-40-f441cd39fe92>\u001b[0m in \u001b[0;36m<module>\u001b[0;34m()\u001b[0m\n\u001b[1;32m      1\u001b[0m \u001b[0mmodel_FCN\u001b[0m\u001b[0;34m.\u001b[0m\u001b[0mcompile\u001b[0m\u001b[0;34m(\u001b[0m\u001b[0mloss\u001b[0m\u001b[0;34m=\u001b[0m\u001b[0;34m\"sparse_categorical_crossentropy\"\u001b[0m\u001b[0;34m,\u001b[0m \u001b[0moptimizer\u001b[0m\u001b[0;34m=\u001b[0m\u001b[0;34m\"nadam\"\u001b[0m\u001b[0;34m,\u001b[0m \u001b[0mmetrics\u001b[0m\u001b[0;34m=\u001b[0m\u001b[0;34m[\u001b[0m\u001b[0;34m\"accuracy\"\u001b[0m\u001b[0;34m]\u001b[0m\u001b[0;34m)\u001b[0m\u001b[0;34m\u001b[0m\u001b[0;34m\u001b[0m\u001b[0m\n\u001b[0;32m----> 2\u001b[0;31m \u001b[0mhistory\u001b[0m \u001b[0;34m=\u001b[0m \u001b[0mmodel_FCN\u001b[0m\u001b[0;34m.\u001b[0m\u001b[0mfit\u001b[0m\u001b[0;34m(\u001b[0m\u001b[0mtrain_X\u001b[0m\u001b[0;34m,\u001b[0m \u001b[0mtrain_y\u001b[0m\u001b[0;34m,\u001b[0m \u001b[0mepochs\u001b[0m\u001b[0;34m=\u001b[0m\u001b[0;36m10\u001b[0m\u001b[0;34m,\u001b[0m \u001b[0mvalidation_data\u001b[0m\u001b[0;34m=\u001b[0m\u001b[0;34m[\u001b[0m\u001b[0mtest_X\u001b[0m\u001b[0;34m,\u001b[0m \u001b[0mtest_y\u001b[0m\u001b[0;34m]\u001b[0m\u001b[0;34m)\u001b[0m\u001b[0;34m\u001b[0m\u001b[0;34m\u001b[0m\u001b[0m\n\u001b[0m\u001b[1;32m      3\u001b[0m \u001b[0mscore\u001b[0m \u001b[0;34m=\u001b[0m \u001b[0mmodel_FCN\u001b[0m\u001b[0;34m.\u001b[0m\u001b[0mevaluate\u001b[0m\u001b[0;34m(\u001b[0m\u001b[0mtest_X\u001b[0m\u001b[0;34m,\u001b[0m \u001b[0mtest_y\u001b[0m\u001b[0;34m)\u001b[0m\u001b[0;34m\u001b[0m\u001b[0;34m\u001b[0m\u001b[0m\n",
      "\u001b[0;32m/usr/local/lib/python3.6/dist-packages/tensorflow/python/keras/engine/training.py\u001b[0m in \u001b[0;36m_method_wrapper\u001b[0;34m(self, *args, **kwargs)\u001b[0m\n\u001b[1;32m     64\u001b[0m   \u001b[0;32mdef\u001b[0m \u001b[0m_method_wrapper\u001b[0m\u001b[0;34m(\u001b[0m\u001b[0mself\u001b[0m\u001b[0;34m,\u001b[0m \u001b[0;34m*\u001b[0m\u001b[0margs\u001b[0m\u001b[0;34m,\u001b[0m \u001b[0;34m**\u001b[0m\u001b[0mkwargs\u001b[0m\u001b[0;34m)\u001b[0m\u001b[0;34m:\u001b[0m\u001b[0;34m\u001b[0m\u001b[0;34m\u001b[0m\u001b[0m\n\u001b[1;32m     65\u001b[0m     \u001b[0;32mif\u001b[0m \u001b[0;32mnot\u001b[0m \u001b[0mself\u001b[0m\u001b[0;34m.\u001b[0m\u001b[0m_in_multi_worker_mode\u001b[0m\u001b[0;34m(\u001b[0m\u001b[0;34m)\u001b[0m\u001b[0;34m:\u001b[0m  \u001b[0;31m# pylint: disable=protected-access\u001b[0m\u001b[0;34m\u001b[0m\u001b[0;34m\u001b[0m\u001b[0m\n\u001b[0;32m---> 66\u001b[0;31m       \u001b[0;32mreturn\u001b[0m \u001b[0mmethod\u001b[0m\u001b[0;34m(\u001b[0m\u001b[0mself\u001b[0m\u001b[0;34m,\u001b[0m \u001b[0;34m*\u001b[0m\u001b[0margs\u001b[0m\u001b[0;34m,\u001b[0m \u001b[0;34m**\u001b[0m\u001b[0mkwargs\u001b[0m\u001b[0;34m)\u001b[0m\u001b[0;34m\u001b[0m\u001b[0;34m\u001b[0m\u001b[0m\n\u001b[0m\u001b[1;32m     67\u001b[0m \u001b[0;34m\u001b[0m\u001b[0m\n\u001b[1;32m     68\u001b[0m     \u001b[0;31m# Running inside `run_distribute_coordinator` already.\u001b[0m\u001b[0;34m\u001b[0m\u001b[0;34m\u001b[0m\u001b[0;34m\u001b[0m\u001b[0m\n",
      "\u001b[0;32m/usr/local/lib/python3.6/dist-packages/tensorflow/python/keras/engine/training.py\u001b[0m in \u001b[0;36mfit\u001b[0;34m(self, x, y, batch_size, epochs, verbose, callbacks, validation_split, validation_data, shuffle, class_weight, sample_weight, initial_epoch, steps_per_epoch, validation_steps, validation_batch_size, validation_freq, max_queue_size, workers, use_multiprocessing)\u001b[0m\n\u001b[1;32m    813\u001b[0m           \u001b[0mworkers\u001b[0m\u001b[0;34m=\u001b[0m\u001b[0mworkers\u001b[0m\u001b[0;34m,\u001b[0m\u001b[0;34m\u001b[0m\u001b[0;34m\u001b[0m\u001b[0m\n\u001b[1;32m    814\u001b[0m           \u001b[0muse_multiprocessing\u001b[0m\u001b[0;34m=\u001b[0m\u001b[0muse_multiprocessing\u001b[0m\u001b[0;34m,\u001b[0m\u001b[0;34m\u001b[0m\u001b[0;34m\u001b[0m\u001b[0m\n\u001b[0;32m--> 815\u001b[0;31m           model=self)\n\u001b[0m\u001b[1;32m    816\u001b[0m \u001b[0;34m\u001b[0m\u001b[0m\n\u001b[1;32m    817\u001b[0m       \u001b[0;31m# Container that configures and calls `tf.keras.Callback`s.\u001b[0m\u001b[0;34m\u001b[0m\u001b[0;34m\u001b[0m\u001b[0;34m\u001b[0m\u001b[0m\n",
      "\u001b[0;32m/usr/local/lib/python3.6/dist-packages/tensorflow/python/keras/engine/data_adapter.py\u001b[0m in \u001b[0;36m__init__\u001b[0;34m(self, x, y, sample_weight, batch_size, steps_per_epoch, initial_epoch, epochs, shuffle, class_weight, max_queue_size, workers, use_multiprocessing, model)\u001b[0m\n\u001b[1;32m   1110\u001b[0m         \u001b[0muse_multiprocessing\u001b[0m\u001b[0;34m=\u001b[0m\u001b[0muse_multiprocessing\u001b[0m\u001b[0;34m,\u001b[0m\u001b[0;34m\u001b[0m\u001b[0;34m\u001b[0m\u001b[0m\n\u001b[1;32m   1111\u001b[0m         \u001b[0mdistribution_strategy\u001b[0m\u001b[0;34m=\u001b[0m\u001b[0mds_context\u001b[0m\u001b[0;34m.\u001b[0m\u001b[0mget_strategy\u001b[0m\u001b[0;34m(\u001b[0m\u001b[0;34m)\u001b[0m\u001b[0;34m,\u001b[0m\u001b[0;34m\u001b[0m\u001b[0;34m\u001b[0m\u001b[0m\n\u001b[0;32m-> 1112\u001b[0;31m         model=model)\n\u001b[0m\u001b[1;32m   1113\u001b[0m \u001b[0;34m\u001b[0m\u001b[0m\n\u001b[1;32m   1114\u001b[0m     \u001b[0mstrategy\u001b[0m \u001b[0;34m=\u001b[0m \u001b[0mds_context\u001b[0m\u001b[0;34m.\u001b[0m\u001b[0mget_strategy\u001b[0m\u001b[0;34m(\u001b[0m\u001b[0;34m)\u001b[0m\u001b[0;34m\u001b[0m\u001b[0;34m\u001b[0m\u001b[0m\n",
      "\u001b[0;32m/usr/local/lib/python3.6/dist-packages/tensorflow/python/keras/engine/data_adapter.py\u001b[0m in \u001b[0;36m__init__\u001b[0;34m(self, x, y, sample_weights, sample_weight_modes, batch_size, epochs, steps, shuffle, **kwargs)\u001b[0m\n\u001b[1;32m    280\u001b[0m             label, \", \".join(str(i.shape[0]) for i in nest.flatten(data)))\n\u001b[1;32m    281\u001b[0m       \u001b[0mmsg\u001b[0m \u001b[0;34m+=\u001b[0m \u001b[0;34m\"Please provide data which shares the same first dimension.\"\u001b[0m\u001b[0;34m\u001b[0m\u001b[0;34m\u001b[0m\u001b[0m\n\u001b[0;32m--> 282\u001b[0;31m       \u001b[0;32mraise\u001b[0m \u001b[0mValueError\u001b[0m\u001b[0;34m(\u001b[0m\u001b[0mmsg\u001b[0m\u001b[0;34m)\u001b[0m\u001b[0;34m\u001b[0m\u001b[0;34m\u001b[0m\u001b[0m\n\u001b[0m\u001b[1;32m    283\u001b[0m     \u001b[0mnum_samples\u001b[0m \u001b[0;34m=\u001b[0m \u001b[0mnum_samples\u001b[0m\u001b[0;34m.\u001b[0m\u001b[0mpop\u001b[0m\u001b[0;34m(\u001b[0m\u001b[0;34m)\u001b[0m\u001b[0;34m\u001b[0m\u001b[0;34m\u001b[0m\u001b[0m\n\u001b[1;32m    284\u001b[0m \u001b[0;34m\u001b[0m\u001b[0m\n",
      "\u001b[0;31mValueError\u001b[0m: Data cardinality is ambiguous:\n  x sizes: 27584\n  y sizes: 27583\nPlease provide data which shares the same first dimension."
     ]
    }
   ],
   "source": [
    "model_FCN.compile(loss=\"sparse_categorical_crossentropy\", optimizer=\"nadam\", metrics=[\"accuracy\"])\n",
    "history = model_FCN.fit(train_X, train_y, epochs=10, validation_data=[test_X, test_y])\n",
    "score = model_FCN.evaluate(test_X, test_y)"
   ]
  },
  {
   "cell_type": "code",
   "execution_count": null,
   "metadata": {
    "colab": {},
    "colab_type": "code",
    "id": "HZaPzNH3TXMr"
   },
   "outputs": [],
   "source": [
    "def hyper_PA(Data_class, m=8, update_iter=5, mu=3):  \n",
    "    def calculate_prob(degrees):\n",
    "        prob = dict()\n",
    "        deg_sum = np.sum([deg for deg in degrees.values()])\n",
    "        for node, degree in degrees.items():\n",
    "            prob[node] = degree/deg_sum\n",
    "        return prob\n",
    "     \n",
    "    time_sequence = list(np.random.poisson(mu, update_iter))\n",
    "    # 5개의 무작위 숫자 list\n",
    "    \n",
    "    ## select m node\n",
    "    for num_add_node in time_sequence:\n",
    "        node_choices = random.choices(list(Data_class.nodes), k=m)\n",
    "        p = calculate_prob(Data_class.degrees)\n",
    "        \n",
    "        for node1 in node_choices:\n",
    "            while 1:\n",
    "                \n",
    "                print(\"num_add_node\", num_add_node)\n",
    "                new_edge = [node1] + list(random.choices(list(p.keys()), weights=list(p.values()), k=num_add_node))\n",
    "                print(\"node1\", node1)\n",
    "                print(\"new_edge\", new_edge)\n",
    "                print(\"length graph\", len(Data_class.edges))\n",
    "                if new_edge not in Data_class.edges.values():\n",
    "                    break\n",
    "            Data_class.add_edge(new_edge)"
   ]
  },
  {
   "cell_type": "code",
   "execution_count": null,
   "metadata": {
    "colab": {
     "base_uri": "https://localhost:8080/",
     "height": 1000
    },
    "colab_type": "code",
    "id": "L6L8-pl5TXM7",
    "outputId": "202a1104-93a8-4204-e408-17e0950b0a31"
   },
   "outputs": [
    {
     "name": "stdout",
     "output_type": "stream",
     "text": [
      "num_add_node 3\n",
      "node1 47503\n",
      "new_edge [47503, 9514, 36608, 37087]\n",
      "length graph 137959\n",
      "num_add_node 3\n",
      "node1 41033\n",
      "new_edge [41033, 21235, 40156, 22375]\n",
      "length graph 137960\n",
      "num_add_node 3\n",
      "node1 16633\n",
      "new_edge [16633, 28490, 25731, 21759]\n",
      "length graph 137961\n",
      "num_add_node 3\n",
      "node1 3142\n",
      "new_edge [3142, 44190, 49315, 57433]\n",
      "length graph 137962\n",
      "num_add_node 3\n",
      "node1 13764\n",
      "new_edge [13764, 7643, 44178, 22176]\n",
      "length graph 137963\n",
      "num_add_node 3\n",
      "node1 37453\n",
      "new_edge [37453, 43062, 24713, 5698]\n",
      "length graph 137964\n",
      "num_add_node 3\n",
      "node1 33418\n",
      "new_edge [33418, 23712, 38742, 23543]\n",
      "length graph 137965\n",
      "num_add_node 3\n",
      "node1 34219\n",
      "new_edge [34219, 29330, 51758, 42685]\n",
      "length graph 137966\n",
      "num_add_node 3\n",
      "node1 24172\n",
      "new_edge [24172, 16765, 4610, 44461]\n",
      "length graph 137967\n",
      "num_add_node 3\n",
      "node1 2590\n",
      "new_edge [2590, 12866, 41199, 15229]\n",
      "length graph 137968\n",
      "num_add_node 3\n",
      "node1 3499\n",
      "new_edge [3499, 29401, 19186, 46278]\n",
      "length graph 137969\n",
      "num_add_node 3\n",
      "node1 55906\n",
      "new_edge [55906, 31347, 42949, 42921]\n",
      "length graph 137970\n",
      "num_add_node 3\n",
      "node1 56571\n",
      "new_edge [56571, 47995, 47669, 57153]\n",
      "length graph 137971\n",
      "num_add_node 3\n",
      "node1 50565\n",
      "new_edge [50565, 9665, 41394, 48266]\n",
      "length graph 137972\n",
      "num_add_node 3\n",
      "node1 21397\n",
      "new_edge [21397, 8659, 15482, 33475]\n",
      "length graph 137973\n",
      "num_add_node 3\n",
      "node1 23567\n",
      "new_edge [23567, 33280, 44662, 57376]\n",
      "length graph 137974\n",
      "num_add_node 5\n",
      "node1 7975\n",
      "new_edge [7975, 46189, 477, 47445, 49421, 29616]\n",
      "length graph 137975\n",
      "num_add_node 5\n",
      "node1 49267\n",
      "new_edge [49267, 42423, 17970, 17707, 44633, 26912]\n",
      "length graph 137976\n",
      "num_add_node 5\n",
      "node1 41279\n",
      "new_edge [41279, 5094, 13331, 7913, 34443, 31246]\n",
      "length graph 137977\n",
      "num_add_node 5\n",
      "node1 45829\n",
      "new_edge [45829, 39997, 5396, 16705, 787, 30477]\n",
      "length graph 137978\n",
      "num_add_node 5\n",
      "node1 9541\n",
      "new_edge [9541, 23753, 55365, 20741, 9999, 6409]\n",
      "length graph 137979\n",
      "num_add_node 5\n",
      "node1 30111\n",
      "new_edge [30111, 33480, 58572, 12966, 12184, 26781]\n",
      "length graph 137980\n",
      "num_add_node 5\n",
      "node1 56030\n",
      "new_edge [56030, 29101, 55770, 56297, 4980, 36876]\n",
      "length graph 137981\n",
      "num_add_node 5\n",
      "node1 33421\n",
      "new_edge [33421, 45707, 22412, 42691, 50269, 13305]\n",
      "length graph 137982\n",
      "num_add_node 1\n",
      "node1 18203\n",
      "new_edge [18203, 55951]\n",
      "length graph 137983\n",
      "num_add_node 1\n",
      "node1 17897\n",
      "new_edge [17897, 40470]\n",
      "length graph 137984\n",
      "num_add_node 1\n",
      "node1 8058\n",
      "new_edge [8058, 57063]\n",
      "length graph 137985\n",
      "num_add_node 1\n",
      "node1 11734\n",
      "new_edge [11734, 13718]\n",
      "length graph 137986\n",
      "num_add_node 1\n",
      "node1 45962\n",
      "new_edge [45962, 57692]\n",
      "length graph 137987\n",
      "num_add_node 1\n",
      "node1 4208\n",
      "new_edge [4208, 3000]\n",
      "length graph 137988\n",
      "num_add_node 1\n",
      "node1 5527\n",
      "new_edge [5527, 3590]\n",
      "length graph 137989\n",
      "num_add_node 1\n",
      "node1 56778\n",
      "new_edge [56778, 16670]\n",
      "length graph 137990\n",
      "num_add_node 3\n",
      "node1 29018\n",
      "new_edge [29018, 2430, 42716, 56909]\n",
      "length graph 137991\n",
      "num_add_node 3\n",
      "node1 15381\n",
      "new_edge [15381, 18193, 5164, 18689]\n",
      "length graph 137992\n",
      "num_add_node 3\n",
      "node1 44318\n",
      "new_edge [44318, 44086, 31757, 35891]\n",
      "length graph 137993\n",
      "num_add_node 3\n",
      "node1 36015\n",
      "new_edge [36015, 31998, 56199, 40893]\n",
      "length graph 137994\n",
      "num_add_node 3\n",
      "node1 17291\n",
      "new_edge [17291, 22916, 35341, 42436]\n",
      "length graph 137995\n",
      "num_add_node 3\n",
      "node1 21567\n",
      "new_edge [21567, 31893, 49861, 52161]\n",
      "length graph 137996\n",
      "num_add_node 3\n",
      "node1 7622\n",
      "new_edge [7622, 40268, 4266, 9310]\n",
      "length graph 137997\n",
      "num_add_node 3\n",
      "node1 10354\n",
      "new_edge [10354, 40141, 12552, 55226]\n",
      "length graph 137998\n"
     ]
    }
   ],
   "source": [
    "hyper_PA(data)"
   ]
  },
  {
   "cell_type": "code",
   "execution_count": null,
   "metadata": {
    "colab": {},
    "colab_type": "code",
    "id": "MV4nV7kvla6r"
   },
   "outputs": [],
   "source": []
  }
 ],
 "metadata": {
  "colab": {
   "collapsed_sections": [],
   "name": "main.ipynb",
   "provenance": []
  },
  "kernelspec": {
   "display_name": "Python 3",
   "language": "python",
   "name": "python3"
  },
  "language_info": {
   "codemirror_mode": {
    "name": "ipython",
    "version": 3
   },
   "file_extension": ".py",
   "mimetype": "text/x-python",
   "name": "python",
   "nbconvert_exporter": "python",
   "pygments_lexer": "ipython3",
   "version": "3.8.3"
  }
 },
 "nbformat": 4,
 "nbformat_minor": 1
}
