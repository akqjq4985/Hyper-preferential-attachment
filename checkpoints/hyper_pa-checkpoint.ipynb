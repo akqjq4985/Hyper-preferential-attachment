{
 "cells": [
  {
   "cell_type": "code",
   "execution_count": null,
   "metadata": {},
   "outputs": [],
   "source": [
    "import os\n",
    "import numpy as np\n",
    "import pickle\n",
    "\n",
    "from src.data_utils import *\n",
    "from src.utils import *\n",
    "from model import *\n",
    "import time"
   ]
  },
  {
   "cell_type": "code",
   "execution_count": null,
   "metadata": {},
   "outputs": [],
   "source": [
    "path = os.getcwd() + '/project_data/' + 'paper_author.txt'\n",
    "data = Hypergraph(path)\n",
    "query = Query()\n",
    "\n",
    "update_iter= 50000\n",
    "threshold = 10\n",
    "\n",
    "start =time.time()\n",
    "hyper_PA(data, update_iter=update_iter, rejection_type='adamic_adar', threshold=threshold)\n",
    "print(\"-----PA---\", time.time() - start)\n",
    "print(\"-------------\")\n",
    "\n",
    "    "
   ]
  },
  {
   "cell_type": "code",
   "execution_count": null,
   "metadata": {},
   "outputs": [],
   "source": [
    "save = list(data.edges.values())\n",
    "save_path = 'save_graph/'\n",
    "save_file_name = str(update_iter)+'iter' + str(threshold) + 'threshold'+'.txt'\n",
    "with open(save_path + save_file_name,'wb') as f:\n",
    "    pickle.dump(save, f)"
   ]
  }
 ],
 "metadata": {
  "kernelspec": {
   "display_name": "Python 3",
   "language": "python",
   "name": "python3"
  },
  "language_info": {
   "codemirror_mode": {
    "name": "ipython",
    "version": 3
   },
   "file_extension": ".py",
   "mimetype": "text/x-python",
   "name": "python",
   "nbconvert_exporter": "python",
   "pygments_lexer": "ipython3",
   "version": "3.8.3"
  }
 },
 "nbformat": 4,
 "nbformat_minor": 4
}
